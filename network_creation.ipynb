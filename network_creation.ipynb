{
 "cells": [
  {
   "cell_type": "code",
   "execution_count": 16,
   "metadata": {},
   "outputs": [],
   "source": [
    "import pandas as pd\n",
    "import numpy as np \n",
    "import networkx as nx\n",
    "import matplotlib.pyplot as plt"
   ]
  },
  {
   "cell_type": "code",
   "execution_count": 26,
   "metadata": {},
   "outputs": [
    {
     "name": "stdout",
     "output_type": "stream",
     "text": [
      "Collecting scipy==1.8\n",
      "  Using cached scipy-1.8.0-cp39-cp39-macosx_12_0_universal2.macosx_10_9_x86_64.whl (55.6 MB)\n",
      "Requirement already satisfied: numpy<1.25.0,>=1.17.3 in /Users/wdaugherty/opt/anaconda3/lib/python3.9/site-packages (from scipy==1.8) (1.23.4)\n",
      "Installing collected packages: scipy\n",
      "  Attempting uninstall: scipy\n",
      "    Found existing installation: scipy 1.9.0\n",
      "    Uninstalling scipy-1.9.0:\n",
      "      Successfully uninstalled scipy-1.9.0\n",
      "Successfully installed scipy-1.8.0\n",
      "Note: you may need to restart the kernel to use updated packages.\n"
     ]
    }
   ],
   "source": [
    "pip install scipy==1.8"
   ]
  },
  {
   "cell_type": "code",
   "execution_count": 8,
   "metadata": {},
   "outputs": [
    {
     "data": {
      "text/html": [
       "<div>\n",
       "<style scoped>\n",
       "    .dataframe tbody tr th:only-of-type {\n",
       "        vertical-align: middle;\n",
       "    }\n",
       "\n",
       "    .dataframe tbody tr th {\n",
       "        vertical-align: top;\n",
       "    }\n",
       "\n",
       "    .dataframe thead th {\n",
       "        text-align: right;\n",
       "    }\n",
       "</style>\n",
       "<table border=\"1\" class=\"dataframe\">\n",
       "  <thead>\n",
       "    <tr style=\"text-align: right;\">\n",
       "      <th></th>\n",
       "      <th>author_id</th>\n",
       "      <th>conversation_id</th>\n",
       "      <th>tweet_created_at</th>\n",
       "      <th>id</th>\n",
       "      <th>in_reply_to_user_id</th>\n",
       "      <th>lang</th>\n",
       "      <th>reply_settings</th>\n",
       "      <th>source</th>\n",
       "      <th>text</th>\n",
       "      <th>geo</th>\n",
       "      <th>...</th>\n",
       "      <th>description</th>\n",
       "      <th>name</th>\n",
       "      <th>username</th>\n",
       "      <th>location</th>\n",
       "      <th>followers_count</th>\n",
       "      <th>following_count</th>\n",
       "      <th>listed_count</th>\n",
       "      <th>tweet_count</th>\n",
       "      <th>description.mentions</th>\n",
       "      <th>hashtags</th>\n",
       "    </tr>\n",
       "  </thead>\n",
       "  <tbody>\n",
       "    <tr>\n",
       "      <th>0</th>\n",
       "      <td>1229060372105134080</td>\n",
       "      <td>1324865785513332738</td>\n",
       "      <td>2020-11-07T00:09:58.000Z</td>\n",
       "      <td>1324866646834606081</td>\n",
       "      <td>1.236086e+18</td>\n",
       "      <td>en</td>\n",
       "      <td>everyone</td>\n",
       "      <td>Twitter Web App</td>\n",
       "      <td>@JavoeGator @JonahLandergan The voting machine...</td>\n",
       "      <td>NaN</td>\n",
       "      <td>...</td>\n",
       "      <td>NaN</td>\n",
       "      <td>Mr. Gekko</td>\n",
       "      <td>sicilianslice12</td>\n",
       "      <td>NaN</td>\n",
       "      <td>90</td>\n",
       "      <td>477</td>\n",
       "      <td>1</td>\n",
       "      <td>6549</td>\n",
       "      <td>NaN</td>\n",
       "      <td>NaN</td>\n",
       "    </tr>\n",
       "    <tr>\n",
       "      <th>1</th>\n",
       "      <td>1229060372105134080</td>\n",
       "      <td>1324865385448042496</td>\n",
       "      <td>2020-11-07T00:09:32.000Z</td>\n",
       "      <td>1324866538059558913</td>\n",
       "      <td>1.270763e+18</td>\n",
       "      <td>en</td>\n",
       "      <td>everyone</td>\n",
       "      <td>Twitter Web App</td>\n",
       "      <td>@hannahyusuck @saintherons The voting machines...</td>\n",
       "      <td>NaN</td>\n",
       "      <td>...</td>\n",
       "      <td>NaN</td>\n",
       "      <td>Mr. Gekko</td>\n",
       "      <td>sicilianslice12</td>\n",
       "      <td>NaN</td>\n",
       "      <td>90</td>\n",
       "      <td>477</td>\n",
       "      <td>1</td>\n",
       "      <td>6549</td>\n",
       "      <td>NaN</td>\n",
       "      <td>NaN</td>\n",
       "    </tr>\n",
       "    <tr>\n",
       "      <th>2</th>\n",
       "      <td>1229060372105134080</td>\n",
       "      <td>1324903877360152578</td>\n",
       "      <td>2020-11-07T15:08:06.000Z</td>\n",
       "      <td>1325092671032004609</td>\n",
       "      <td>6.482096e+07</td>\n",
       "      <td>en</td>\n",
       "      <td>everyone</td>\n",
       "      <td>Twitter for iPhone</td>\n",
       "      <td>@mpinthedesert @PlagerAlan @gatewaypundit @Rec...</td>\n",
       "      <td>NaN</td>\n",
       "      <td>...</td>\n",
       "      <td>NaN</td>\n",
       "      <td>Mr. Gekko</td>\n",
       "      <td>sicilianslice12</td>\n",
       "      <td>NaN</td>\n",
       "      <td>90</td>\n",
       "      <td>477</td>\n",
       "      <td>1</td>\n",
       "      <td>6549</td>\n",
       "      <td>NaN</td>\n",
       "      <td>NaN</td>\n",
       "    </tr>\n",
       "    <tr>\n",
       "      <th>3</th>\n",
       "      <td>1229060372105134080</td>\n",
       "      <td>1324478995782651905</td>\n",
       "      <td>2020-11-07T15:54:13.000Z</td>\n",
       "      <td>1325104276859990017</td>\n",
       "      <td>3.223426e+09</td>\n",
       "      <td>en</td>\n",
       "      <td>everyone</td>\n",
       "      <td>Twitter Web App</td>\n",
       "      <td>@SethAbramson The voting machines related to t...</td>\n",
       "      <td>NaN</td>\n",
       "      <td>...</td>\n",
       "      <td>NaN</td>\n",
       "      <td>Mr. Gekko</td>\n",
       "      <td>sicilianslice12</td>\n",
       "      <td>NaN</td>\n",
       "      <td>90</td>\n",
       "      <td>477</td>\n",
       "      <td>1</td>\n",
       "      <td>6549</td>\n",
       "      <td>NaN</td>\n",
       "      <td>NaN</td>\n",
       "    </tr>\n",
       "    <tr>\n",
       "      <th>4</th>\n",
       "      <td>1229060372105134080</td>\n",
       "      <td>1324866302100508676</td>\n",
       "      <td>2020-11-07T00:08:55.000Z</td>\n",
       "      <td>1324866382966775810</td>\n",
       "      <td>1.661961e+09</td>\n",
       "      <td>en</td>\n",
       "      <td>everyone</td>\n",
       "      <td>Twitter Web App</td>\n",
       "      <td>@FoxFyrePhotos The voting machines related to ...</td>\n",
       "      <td>NaN</td>\n",
       "      <td>...</td>\n",
       "      <td>NaN</td>\n",
       "      <td>Mr. Gekko</td>\n",
       "      <td>sicilianslice12</td>\n",
       "      <td>NaN</td>\n",
       "      <td>90</td>\n",
       "      <td>477</td>\n",
       "      <td>1</td>\n",
       "      <td>6549</td>\n",
       "      <td>NaN</td>\n",
       "      <td>NaN</td>\n",
       "    </tr>\n",
       "  </tbody>\n",
       "</table>\n",
       "<p>5 rows × 35 columns</p>\n",
       "</div>"
      ],
      "text/plain": [
       "             author_id      conversation_id          tweet_created_at  \\\n",
       "0  1229060372105134080  1324865785513332738  2020-11-07T00:09:58.000Z   \n",
       "1  1229060372105134080  1324865385448042496  2020-11-07T00:09:32.000Z   \n",
       "2  1229060372105134080  1324903877360152578  2020-11-07T15:08:06.000Z   \n",
       "3  1229060372105134080  1324478995782651905  2020-11-07T15:54:13.000Z   \n",
       "4  1229060372105134080  1324866302100508676  2020-11-07T00:08:55.000Z   \n",
       "\n",
       "                    id  in_reply_to_user_id lang reply_settings  \\\n",
       "0  1324866646834606081         1.236086e+18   en       everyone   \n",
       "1  1324866538059558913         1.270763e+18   en       everyone   \n",
       "2  1325092671032004609         6.482096e+07   en       everyone   \n",
       "3  1325104276859990017         3.223426e+09   en       everyone   \n",
       "4  1324866382966775810         1.661961e+09   en       everyone   \n",
       "\n",
       "               source                                               text  geo  \\\n",
       "0     Twitter Web App  @JavoeGator @JonahLandergan The voting machine...  NaN   \n",
       "1     Twitter Web App  @hannahyusuck @saintherons The voting machines...  NaN   \n",
       "2  Twitter for iPhone  @mpinthedesert @PlagerAlan @gatewaypundit @Rec...  NaN   \n",
       "3     Twitter Web App  @SethAbramson The voting machines related to t...  NaN   \n",
       "4     Twitter Web App  @FoxFyrePhotos The voting machines related to ...  NaN   \n",
       "\n",
       "   ...  description       name         username  location  followers_count  \\\n",
       "0  ...          NaN  Mr. Gekko  sicilianslice12       NaN               90   \n",
       "1  ...          NaN  Mr. Gekko  sicilianslice12       NaN               90   \n",
       "2  ...          NaN  Mr. Gekko  sicilianslice12       NaN               90   \n",
       "3  ...          NaN  Mr. Gekko  sicilianslice12       NaN               90   \n",
       "4  ...          NaN  Mr. Gekko  sicilianslice12       NaN               90   \n",
       "\n",
       "   following_count  listed_count tweet_count description.mentions hashtags  \n",
       "0              477             1        6549                  NaN      NaN  \n",
       "1              477             1        6549                  NaN      NaN  \n",
       "2              477             1        6549                  NaN      NaN  \n",
       "3              477             1        6549                  NaN      NaN  \n",
       "4              477             1        6549                  NaN      NaN  \n",
       "\n",
       "[5 rows x 35 columns]"
      ]
     },
     "execution_count": 8,
     "metadata": {},
     "output_type": "execute_result"
    }
   ],
   "source": [
    "df = pd.read_csv('twitter_df.csv')\n",
    "\n",
    "df = df.drop(columns=['Unnamed: 0'])\n",
    "df = df.drop(columns=['edit_history_tweet_ids'])\n",
    "df.head()"
   ]
  },
  {
   "cell_type": "code",
   "execution_count": 9,
   "metadata": {},
   "outputs": [
    {
     "data": {
      "text/plain": [
       "Index(['author_id', 'conversation_id', 'tweet_created_at', 'id',\n",
       "       'in_reply_to_user_id', 'lang', 'reply_settings', 'source', 'text',\n",
       "       'geo', 'retweeted', 'replied_to', 'quoted', 'like_count', 'quote_count',\n",
       "       'reply_count', 'retweet_count', 'Place', 'Organization', 'Person',\n",
       "       'Other', 'Probability', 'user_mentioned', 'index', 'user_created_at',\n",
       "       'description', 'name', 'username', 'location', 'followers_count',\n",
       "       'following_count', 'listed_count', 'tweet_count',\n",
       "       'description.mentions', 'hashtags'],\n",
       "      dtype='object')"
      ]
     },
     "execution_count": 9,
     "metadata": {},
     "output_type": "execute_result"
    }
   ],
   "source": [
    "df.columns"
   ]
  },
  {
   "cell_type": "code",
   "execution_count": 17,
   "metadata": {},
   "outputs": [],
   "source": [
    "#Creates the graph with nodes as the author id and retweets as the retweets\n",
    "G=nx.from_pandas_edgelist(df, 'author_id', 'retweeted', ['like_count', 'quote_count',\n",
    "       'reply_count', 'retweet_count','followers_count',\n",
    "       'following_count', 'listed_count', 'tweet_count']) "
   ]
  },
  {
   "cell_type": "code",
   "execution_count": 27,
   "metadata": {},
   "outputs": [
    {
     "ename": "AttributeError",
     "evalue": "module 'scipy.sparse' has no attribute 'coo_array'",
     "output_type": "error",
     "traceback": [
      "\u001b[0;31m---------------------------------------------------------------------------\u001b[0m",
      "\u001b[0;31mAttributeError\u001b[0m                            Traceback (most recent call last)",
      "\u001b[0;32m/var/folders/87/6bfjhdg13952r0hbf93s28b40000gn/T/ipykernel_62120/356529814.py\u001b[0m in \u001b[0;36m<module>\u001b[0;34m\u001b[0m\n\u001b[0;32m----> 1\u001b[0;31m \u001b[0mnx\u001b[0m\u001b[0;34m.\u001b[0m\u001b[0mdraw\u001b[0m\u001b[0;34m(\u001b[0m\u001b[0mG\u001b[0m\u001b[0;34m)\u001b[0m\u001b[0;34m\u001b[0m\u001b[0;34m\u001b[0m\u001b[0m\n\u001b[0m",
      "\u001b[0;32m~/opt/anaconda3/lib/python3.9/site-packages/networkx/drawing/nx_pylab.py\u001b[0m in \u001b[0;36mdraw\u001b[0;34m(G, pos, ax, **kwds)\u001b[0m\n\u001b[1;32m    119\u001b[0m \u001b[0;34m\u001b[0m\u001b[0m\n\u001b[1;32m    120\u001b[0m     \u001b[0mdraw_networkx\u001b[0m\u001b[0;34m(\u001b[0m\u001b[0mG\u001b[0m\u001b[0;34m,\u001b[0m \u001b[0mpos\u001b[0m\u001b[0;34m=\u001b[0m\u001b[0mpos\u001b[0m\u001b[0;34m,\u001b[0m \u001b[0max\u001b[0m\u001b[0;34m=\u001b[0m\u001b[0max\u001b[0m\u001b[0;34m,\u001b[0m \u001b[0;34m**\u001b[0m\u001b[0mkwds\u001b[0m\u001b[0;34m)\u001b[0m\u001b[0;34m\u001b[0m\u001b[0;34m\u001b[0m\u001b[0m\n\u001b[0;32m--> 121\u001b[0;31m     \u001b[0max\u001b[0m\u001b[0;34m.\u001b[0m\u001b[0mset_axis_off\u001b[0m\u001b[0;34m(\u001b[0m\u001b[0;34m)\u001b[0m\u001b[0;34m\u001b[0m\u001b[0;34m\u001b[0m\u001b[0m\n\u001b[0m\u001b[1;32m    122\u001b[0m     \u001b[0mplt\u001b[0m\u001b[0;34m.\u001b[0m\u001b[0mdraw_if_interactive\u001b[0m\u001b[0;34m(\u001b[0m\u001b[0;34m)\u001b[0m\u001b[0;34m\u001b[0m\u001b[0;34m\u001b[0m\u001b[0m\n\u001b[1;32m    123\u001b[0m     \u001b[0;32mreturn\u001b[0m\u001b[0;34m\u001b[0m\u001b[0;34m\u001b[0m\u001b[0m\n",
      "\u001b[0;32m~/opt/anaconda3/lib/python3.9/site-packages/networkx/drawing/nx_pylab.py\u001b[0m in \u001b[0;36mdraw_networkx\u001b[0;34m(G, pos, arrows, with_labels, **kwds)\u001b[0m\n\u001b[1;32m    299\u001b[0m         \u001b[0;34m\"node_size\"\u001b[0m\u001b[0;34m,\u001b[0m\u001b[0;34m\u001b[0m\u001b[0;34m\u001b[0m\u001b[0m\n\u001b[1;32m    300\u001b[0m         \u001b[0;34m\"nodelist\"\u001b[0m\u001b[0;34m,\u001b[0m\u001b[0;34m\u001b[0m\u001b[0;34m\u001b[0m\u001b[0m\n\u001b[0;32m--> 301\u001b[0;31m         \u001b[0;34m\"node_shape\"\u001b[0m\u001b[0;34m,\u001b[0m\u001b[0;34m\u001b[0m\u001b[0;34m\u001b[0m\u001b[0m\n\u001b[0m\u001b[1;32m    302\u001b[0m         \u001b[0;34m\"connectionstyle\"\u001b[0m\u001b[0;34m,\u001b[0m\u001b[0;34m\u001b[0m\u001b[0;34m\u001b[0m\u001b[0m\n\u001b[1;32m    303\u001b[0m         \u001b[0;34m\"min_source_margin\"\u001b[0m\u001b[0;34m,\u001b[0m\u001b[0;34m\u001b[0m\u001b[0;34m\u001b[0m\u001b[0m\n",
      "\u001b[0;32m~/opt/anaconda3/lib/python3.9/site-packages/networkx/utils/decorators.py\u001b[0m in \u001b[0;36margmap_spring_layout_5\u001b[0;34m(G, k, pos, fixed, iterations, threshold, weight, scale, center, dim, seed)\u001b[0m\n\u001b[1;32m      2\u001b[0m \u001b[0;32mimport\u001b[0m \u001b[0mcollections\u001b[0m\u001b[0;34m\u001b[0m\u001b[0;34m\u001b[0m\u001b[0m\n\u001b[1;32m      3\u001b[0m \u001b[0;32mimport\u001b[0m \u001b[0mgzip\u001b[0m\u001b[0;34m\u001b[0m\u001b[0;34m\u001b[0m\u001b[0m\n\u001b[0;32m----> 4\u001b[0;31m \u001b[0;32mimport\u001b[0m \u001b[0minspect\u001b[0m\u001b[0;34m\u001b[0m\u001b[0;34m\u001b[0m\u001b[0m\n\u001b[0m\u001b[1;32m      5\u001b[0m \u001b[0;32mimport\u001b[0m \u001b[0mitertools\u001b[0m\u001b[0;34m\u001b[0m\u001b[0;34m\u001b[0m\u001b[0m\n\u001b[1;32m      6\u001b[0m \u001b[0;32mimport\u001b[0m \u001b[0mre\u001b[0m\u001b[0;34m\u001b[0m\u001b[0;34m\u001b[0m\u001b[0m\n",
      "\u001b[0;32m~/opt/anaconda3/lib/python3.9/site-packages/networkx/drawing/layout.py\u001b[0m in \u001b[0;36mspring_layout\u001b[0;34m(G, k, pos, fixed, iterations, threshold, weight, scale, center, dim, seed)\u001b[0m\n\u001b[1;32m    474\u001b[0m         \u001b[0;32mif\u001b[0m \u001b[0mlen\u001b[0m\u001b[0;34m(\u001b[0m\u001b[0mG\u001b[0m\u001b[0;34m)\u001b[0m \u001b[0;34m<\u001b[0m \u001b[0;36m500\u001b[0m\u001b[0;34m:\u001b[0m  \u001b[0;31m# sparse solver for large graphs\u001b[0m\u001b[0;34m\u001b[0m\u001b[0;34m\u001b[0m\u001b[0m\n\u001b[1;32m    475\u001b[0m             \u001b[0;32mraise\u001b[0m \u001b[0mValueError\u001b[0m\u001b[0;34m\u001b[0m\u001b[0;34m\u001b[0m\u001b[0m\n\u001b[0;32m--> 476\u001b[0;31m         \u001b[0mA\u001b[0m \u001b[0;34m=\u001b[0m \u001b[0mnx\u001b[0m\u001b[0;34m.\u001b[0m\u001b[0mto_scipy_sparse_array\u001b[0m\u001b[0;34m(\u001b[0m\u001b[0mG\u001b[0m\u001b[0;34m,\u001b[0m \u001b[0mweight\u001b[0m\u001b[0;34m=\u001b[0m\u001b[0mweight\u001b[0m\u001b[0;34m,\u001b[0m \u001b[0mdtype\u001b[0m\u001b[0;34m=\u001b[0m\u001b[0;34m\"f\"\u001b[0m\u001b[0;34m)\u001b[0m\u001b[0;34m\u001b[0m\u001b[0;34m\u001b[0m\u001b[0m\n\u001b[0m\u001b[1;32m    477\u001b[0m         \u001b[0;32mif\u001b[0m \u001b[0mk\u001b[0m \u001b[0;32mis\u001b[0m \u001b[0;32mNone\u001b[0m \u001b[0;32mand\u001b[0m \u001b[0mfixed\u001b[0m \u001b[0;32mis\u001b[0m \u001b[0;32mnot\u001b[0m \u001b[0;32mNone\u001b[0m\u001b[0;34m:\u001b[0m\u001b[0;34m\u001b[0m\u001b[0;34m\u001b[0m\u001b[0m\n\u001b[1;32m    478\u001b[0m             \u001b[0;31m# We must adjust k by domain size for layouts not near 1x1\u001b[0m\u001b[0;34m\u001b[0m\u001b[0;34m\u001b[0m\u001b[0m\n",
      "\u001b[0;32m~/opt/anaconda3/lib/python3.9/site-packages/networkx/convert_matrix.py\u001b[0m in \u001b[0;36mto_scipy_sparse_array\u001b[0;34m(G, nodelist, dtype, weight, format)\u001b[0m\n\u001b[1;32m    921\u001b[0m         \u001b[0mA\u001b[0m \u001b[0;34m=\u001b[0m \u001b[0msp\u001b[0m\u001b[0;34m.\u001b[0m\u001b[0msparse\u001b[0m\u001b[0;34m.\u001b[0m\u001b[0mcoo_array\u001b[0m\u001b[0;34m(\u001b[0m\u001b[0;34m(\u001b[0m\u001b[0md\u001b[0m\u001b[0;34m,\u001b[0m \u001b[0;34m(\u001b[0m\u001b[0mr\u001b[0m\u001b[0;34m,\u001b[0m \u001b[0mc\u001b[0m\u001b[0;34m)\u001b[0m\u001b[0;34m)\u001b[0m\u001b[0;34m,\u001b[0m \u001b[0mshape\u001b[0m\u001b[0;34m=\u001b[0m\u001b[0;34m(\u001b[0m\u001b[0mnlen\u001b[0m\u001b[0;34m,\u001b[0m \u001b[0mnlen\u001b[0m\u001b[0;34m)\u001b[0m\u001b[0;34m,\u001b[0m \u001b[0mdtype\u001b[0m\u001b[0;34m=\u001b[0m\u001b[0mdtype\u001b[0m\u001b[0;34m)\u001b[0m\u001b[0;34m\u001b[0m\u001b[0;34m\u001b[0m\u001b[0m\n\u001b[1;32m    922\u001b[0m     \u001b[0;32mtry\u001b[0m\u001b[0;34m:\u001b[0m\u001b[0;34m\u001b[0m\u001b[0;34m\u001b[0m\u001b[0m\n\u001b[0;32m--> 923\u001b[0;31m         \u001b[0;32mreturn\u001b[0m \u001b[0mA\u001b[0m\u001b[0;34m.\u001b[0m\u001b[0masformat\u001b[0m\u001b[0;34m(\u001b[0m\u001b[0mformat\u001b[0m\u001b[0;34m)\u001b[0m\u001b[0;34m\u001b[0m\u001b[0;34m\u001b[0m\u001b[0m\n\u001b[0m\u001b[1;32m    924\u001b[0m     \u001b[0;32mexcept\u001b[0m \u001b[0mValueError\u001b[0m \u001b[0;32mas\u001b[0m \u001b[0merr\u001b[0m\u001b[0;34m:\u001b[0m\u001b[0;34m\u001b[0m\u001b[0;34m\u001b[0m\u001b[0m\n\u001b[1;32m    925\u001b[0m         \u001b[0;32mraise\u001b[0m \u001b[0mnx\u001b[0m\u001b[0;34m.\u001b[0m\u001b[0mNetworkXError\u001b[0m\u001b[0;34m(\u001b[0m\u001b[0;34mf\"Unknown sparse matrix format: {format}\"\u001b[0m\u001b[0;34m)\u001b[0m \u001b[0;32mfrom\u001b[0m \u001b[0merr\u001b[0m\u001b[0;34m\u001b[0m\u001b[0;34m\u001b[0m\u001b[0m\n",
      "\u001b[0;31mAttributeError\u001b[0m: module 'scipy.sparse' has no attribute 'coo_array'"
     ]
    },
    {
     "data": {
      "image/png": "[encoded data removed]",
      "text/plain": [
       "<Figure size 640x480 with 1 Axes>"
      ]
     },
     "metadata": {},
     "output_type": "display_data"
    }
   ],
   "source": [
    "nx.draw(G)"
   ]
  }
 ],
 "metadata": {
  "kernelspec": {
   "display_name": "Python 3.9.12 ('base')",
   "language": "python",
   "name": "python3"
  },
  "language_info": {
   "codemirror_mode": {
    "name": "ipython",
    "version": 3
   },
   "file_extension": ".py",
   "mimetype": "text/x-python",
   "name": "python",
   "nbconvert_exporter": "python",
   "pygments_lexer": "ipython3",
   "version": "3.9.12"
  },
  "orig_nbformat": 4,
  "vscode": {
   "interpreter": {
    "hash": "a2d1937eaf42a33f6bad7128f9b80658bbb1685d32bc9da03c4702cc46b61d5d"
   }
  }
 },
 "nbformat": 4,
 "nbformat_minor": 2
}
