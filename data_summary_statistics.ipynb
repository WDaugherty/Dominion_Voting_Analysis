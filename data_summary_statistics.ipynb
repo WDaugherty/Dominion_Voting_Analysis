{
 "cells": [
  {
   "cell_type": "code",
   "execution_count": 1,
   "id": "7e1eebe4",
   "metadata": {},
   "outputs": [],
   "source": [
    "import pandas as pd"
   ]
  },
  {
   "cell_type": "code",
   "execution_count": 3,
   "id": "7bef9ef4",
   "metadata": {},
   "outputs": [],
   "source": [
    "df = pd.read_csv('twitter_df_w_sentiment.csv')"
   ]
  },
  {
   "cell_type": "code",
   "execution_count": 10,
   "id": "cfb54b56",
   "metadata": {},
   "outputs": [
    {
     "data": {
      "text/plain": [
       "530.0"
      ]
     },
     "execution_count": 10,
     "metadata": {},
     "output_type": "execute_result"
    }
   ],
   "source": [
    "# Median follower count\n",
    "df['followers_count'].median()"
   ]
  },
  {
   "cell_type": "code",
   "execution_count": 11,
   "id": "ed9a78bb",
   "metadata": {},
   "outputs": [
    {
     "data": {
      "text/plain": [
       "4515.15578465063"
      ]
     },
     "execution_count": 11,
     "metadata": {},
     "output_type": "execute_result"
    }
   ],
   "source": [
    "# Mean follower count\n",
    "df['followers_count'].mean()"
   ]
  },
  {
   "cell_type": "code",
   "execution_count": 24,
   "id": "cfd55ab1",
   "metadata": {},
   "outputs": [
    {
     "data": {
      "text/plain": [
       "0"
      ]
     },
     "execution_count": 24,
     "metadata": {},
     "output_type": "execute_result"
    }
   ],
   "source": [
    "df['followers_count'].min()"
   ]
  },
  {
   "cell_type": "code",
   "execution_count": 25,
   "id": "7e4e1a8e",
   "metadata": {},
   "outputs": [
    {
     "data": {
      "text/plain": [
       "1999416"
      ]
     },
     "execution_count": 25,
     "metadata": {},
     "output_type": "execute_result"
    }
   ],
   "source": [
    "df['followers_count'].max()"
   ]
  },
  {
   "cell_type": "code",
   "execution_count": 15,
   "id": "8d7bc428",
   "metadata": {},
   "outputs": [
    {
     "data": {
      "text/plain": [
       "'2020-11-04T23:42:49.000Z'"
      ]
     },
     "execution_count": 15,
     "metadata": {},
     "output_type": "execute_result"
    }
   ],
   "source": [
    "df['tweet_created_at'].min()"
   ]
  },
  {
   "cell_type": "code",
   "execution_count": 16,
   "id": "0bbc8720",
   "metadata": {},
   "outputs": [
    {
     "data": {
      "text/plain": [
       "'2020-11-13T23:12:54.000Z'"
      ]
     },
     "execution_count": 16,
     "metadata": {},
     "output_type": "execute_result"
    }
   ],
   "source": [
    "df['tweet_created_at'].max()"
   ]
  },
  {
   "cell_type": "code",
   "execution_count": 18,
   "id": "1161476e",
   "metadata": {},
   "outputs": [
    {
     "data": {
      "text/plain": [
       "Index(['Unnamed: 0', 'Unnamed: 0.1', 'author_id', 'conversation_id',\n",
       "       'tweet_created_at', 'edit_history_tweet_ids', 'id',\n",
       "       'in_reply_to_user_id', 'lang', 'reply_settings', 'source', 'text',\n",
       "       'geo', 'retweeted', 'replied_to', 'quoted', 'like_count', 'quote_count',\n",
       "       'reply_count', 'retweet_count', 'Place', 'Organization', 'Person',\n",
       "       'Other', 'Probability', 'user_mentioned', 'index', 'user_created_at',\n",
       "       'description', 'name', 'username', 'location', 'followers_count',\n",
       "       'following_count', 'listed_count', 'tweet_count',\n",
       "       'description.mentions', 'hashtags', 'sentiment'],\n",
       "      dtype='object')"
      ]
     },
     "execution_count": 18,
     "metadata": {},
     "output_type": "execute_result"
    }
   ],
   "source": [
    "df.columns"
   ]
  },
  {
   "cell_type": "code",
   "execution_count": 21,
   "id": "a336222e",
   "metadata": {},
   "outputs": [
    {
     "data": {
      "text/plain": [
       "Positive    2086\n",
       "Negative    1406\n",
       "Name: sentiment, dtype: int64"
      ]
     },
     "execution_count": 21,
     "metadata": {},
     "output_type": "execute_result"
    }
   ],
   "source": [
    "df['sentiment'].value_counts()"
   ]
  },
  {
   "cell_type": "code",
   "execution_count": 46,
   "id": "ea927b7f",
   "metadata": {},
   "outputs": [
    {
     "data": {
      "text/plain": [
       "74293.61282932416"
      ]
     },
     "execution_count": 46,
     "metadata": {},
     "output_type": "execute_result"
    }
   ],
   "source": [
    "df['tweet_count'].mean()"
   ]
  },
  {
   "cell_type": "code",
   "execution_count": 48,
   "id": "ff15ee9e",
   "metadata": {},
   "outputs": [
    {
     "data": {
      "text/plain": [
       "count          619\n",
       "unique         465\n",
       "top       ['MAGA']\n",
       "freq            64\n",
       "Name: hashtags, dtype: object"
      ]
     },
     "execution_count": 48,
     "metadata": {},
     "output_type": "execute_result"
    }
   ],
   "source": [
    "df['hashtags'].describe()"
   ]
  },
  {
   "cell_type": "code",
   "execution_count": 55,
   "id": "a345f26b",
   "metadata": {},
   "outputs": [
    {
     "data": {
      "text/plain": [
       "3037"
      ]
     },
     "execution_count": 55,
     "metadata": {},
     "output_type": "execute_result"
    }
   ],
   "source": [
    "len(df['author_id'].unique())"
   ]
  },
  {
   "cell_type": "code",
   "execution_count": null,
   "id": "5d06d679",
   "metadata": {},
   "outputs": [],
   "source": []
  }
 ],
 "metadata": {
  "kernelspec": {
   "display_name": "Python 3 (ipykernel)",
   "language": "python",
   "name": "python3"
  },
  "language_info": {
   "codemirror_mode": {
    "name": "ipython",
    "version": 3
   },
   "file_extension": ".py",
   "mimetype": "text/x-python",
   "name": "python",
   "nbconvert_exporter": "python",
   "pygments_lexer": "ipython3",
   "version": "3.7.13"
  }
 },
 "nbformat": 4,
 "nbformat_minor": 5
}
