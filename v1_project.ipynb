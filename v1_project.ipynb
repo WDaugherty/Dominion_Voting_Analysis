{
 "cells": [
  {
   "cell_type": "markdown",
   "metadata": {},
   "source": [
    "# Version 1 of the final project "
   ]
  },
  {
   "cell_type": "markdown",
   "metadata": {},
   "source": [
    "## Preprocessing "
   ]
  },
  {
   "cell_type": "code",
   "execution_count": 12,
   "metadata": {},
   "outputs": [],
   "source": [
    "#Imports necessary libraries \n",
    "import pandas as pd\n",
    "import numpy as np\n",
    "import networkx as nx\n",
    "import json as js\n",
    "import requests\n",
    "import os"
   ]
  },
  {
   "cell_type": "code",
   "execution_count": 8,
   "metadata": {},
   "outputs": [
    {
     "name": "stdout",
     "output_type": "stream",
     "text": [
      "3501\n",
      "3046\n"
     ]
    }
   ],
   "source": [
    "data = js.load(open('tweet_jsons/response1.json'))\n",
    "df = pd.DataFrame(data[\"data\"])\n",
    "\n",
    "for i in range(2, 63):\n",
    "    filepath = f'tweet_jsons/response{i}.json'\n",
    "    data = js.load(open(filepath))\n",
    "    new_df = pd.DataFrame(data[\"data\"])\n",
    "    df = pd.concat([new_df, df])\n",
    "\n",
    "print(len(df)) # =3500 Tweets currently\n",
    "print(len(df['author_id'].unique())) # =3046 users currently\n",
    "\n",
    "# to-do: \n",
    "# pull corresponding author information from separate api endpoint for all unique author ids"
   ]
  },
  {
   "cell_type": "code",
   "execution_count": 9,
   "metadata": {
    "scrolled": true
   },
   "outputs": [
    {
     "data": {
      "text/html": [
       "<div>\n",
       "<style scoped>\n",
       "    .dataframe tbody tr th:only-of-type {\n",
       "        vertical-align: middle;\n",
       "    }\n",
       "\n",
       "    .dataframe tbody tr th {\n",
       "        vertical-align: top;\n",
       "    }\n",
       "\n",
       "    .dataframe thead th {\n",
       "        text-align: right;\n",
       "    }\n",
       "</style>\n",
       "<table border=\"1\" class=\"dataframe\">\n",
       "  <thead>\n",
       "    <tr style=\"text-align: right;\">\n",
       "      <th></th>\n",
       "      <th>author_id</th>\n",
       "      <th>context_annotations</th>\n",
       "      <th>conversation_id</th>\n",
       "      <th>created_at</th>\n",
       "      <th>edit_history_tweet_ids</th>\n",
       "      <th>entities</th>\n",
       "      <th>id</th>\n",
       "      <th>in_reply_to_user_id</th>\n",
       "      <th>lang</th>\n",
       "      <th>public_metrics</th>\n",
       "      <th>referenced_tweets</th>\n",
       "      <th>reply_settings</th>\n",
       "      <th>source</th>\n",
       "      <th>text</th>\n",
       "      <th>geo</th>\n",
       "    </tr>\n",
       "  </thead>\n",
       "  <tbody>\n",
       "    <tr>\n",
       "      <th>0</th>\n",
       "      <td>1229060372105134080</td>\n",
       "      <td>[{'domain': {'description': 'Real world events...</td>\n",
       "      <td>1324865785513332738</td>\n",
       "      <td>2020-11-07T00:09:58.000Z</td>\n",
       "      <td>[1324866646834606081]</td>\n",
       "      <td>{'annotations': [{'end': 101, 'normalized_text...</td>\n",
       "      <td>1324866646834606081</td>\n",
       "      <td>1236085967666192385</td>\n",
       "      <td>en</td>\n",
       "      <td>{'like_count': 0, 'quote_count': 0, 'reply_cou...</td>\n",
       "      <td>[{'id': '1324866614014210050', 'type': 'replie...</td>\n",
       "      <td>everyone</td>\n",
       "      <td>Twitter Web App</td>\n",
       "      <td>@JavoeGator @JonahLandergan The voting machine...</td>\n",
       "      <td>NaN</td>\n",
       "    </tr>\n",
       "    <tr>\n",
       "      <th>1</th>\n",
       "      <td>1229060372105134080</td>\n",
       "      <td>[{'domain': {'description': 'Real world events...</td>\n",
       "      <td>1324865385448042496</td>\n",
       "      <td>2020-11-07T00:09:32.000Z</td>\n",
       "      <td>[1324866538059558913]</td>\n",
       "      <td>{'annotations': [{'end': 100, 'normalized_text...</td>\n",
       "      <td>1324866538059558913</td>\n",
       "      <td>1270762579774902272</td>\n",
       "      <td>en</td>\n",
       "      <td>{'like_count': 1, 'quote_count': 0, 'reply_cou...</td>\n",
       "      <td>[{'id': '1324866484536012800', 'type': 'replie...</td>\n",
       "      <td>everyone</td>\n",
       "      <td>Twitter Web App</td>\n",
       "      <td>@hannahyusuck @saintherons The voting machines...</td>\n",
       "      <td>NaN</td>\n",
       "    </tr>\n",
       "    <tr>\n",
       "      <th>2</th>\n",
       "      <td>1229060372105134080</td>\n",
       "      <td>[{'domain': {'description': 'Real world events...</td>\n",
       "      <td>1324866302100508676</td>\n",
       "      <td>2020-11-07T00:08:55.000Z</td>\n",
       "      <td>[1324866382966775810]</td>\n",
       "      <td>{'annotations': [{'end': 88, 'normalized_text'...</td>\n",
       "      <td>1324866382966775810</td>\n",
       "      <td>1661961012</td>\n",
       "      <td>en</td>\n",
       "      <td>{'like_count': 0, 'quote_count': 0, 'reply_cou...</td>\n",
       "      <td>[{'id': '1324866302100508676', 'type': 'replie...</td>\n",
       "      <td>everyone</td>\n",
       "      <td>Twitter Web App</td>\n",
       "      <td>@FoxFyrePhotos The voting machines related to ...</td>\n",
       "      <td>NaN</td>\n",
       "    </tr>\n",
       "    <tr>\n",
       "      <th>3</th>\n",
       "      <td>1229060372105134080</td>\n",
       "      <td>[{'domain': {'description': 'Real world events...</td>\n",
       "      <td>1324865813325680641</td>\n",
       "      <td>2020-11-07T00:08:40.000Z</td>\n",
       "      <td>[1324866319896940544]</td>\n",
       "      <td>{'annotations': [{'end': 85, 'normalized_text'...</td>\n",
       "      <td>1324866319896940544</td>\n",
       "      <td>1314213370434744326</td>\n",
       "      <td>en</td>\n",
       "      <td>{'like_count': 0, 'quote_count': 0, 'reply_cou...</td>\n",
       "      <td>[{'id': '1324865813325680641', 'type': 'replie...</td>\n",
       "      <td>everyone</td>\n",
       "      <td>Twitter Web App</td>\n",
       "      <td>@bertzbeess The voting machines related to the...</td>\n",
       "      <td>NaN</td>\n",
       "    </tr>\n",
       "    <tr>\n",
       "      <th>4</th>\n",
       "      <td>1229060372105134080</td>\n",
       "      <td>[{'domain': {'description': 'Named people in t...</td>\n",
       "      <td>1324835859812798465</td>\n",
       "      <td>2020-11-07T00:08:27.000Z</td>\n",
       "      <td>[1324866264913899522]</td>\n",
       "      <td>{'annotations': [{'end': 98, 'normalized_text'...</td>\n",
       "      <td>1324866264913899522</td>\n",
       "      <td>20939466</td>\n",
       "      <td>en</td>\n",
       "      <td>{'like_count': 0, 'quote_count': 0, 'reply_cou...</td>\n",
       "      <td>[{'id': '1324866011049435137', 'type': 'replie...</td>\n",
       "      <td>everyone</td>\n",
       "      <td>Twitter Web App</td>\n",
       "      <td>@rajesh06 @NateSilver538 The voting machines r...</td>\n",
       "      <td>NaN</td>\n",
       "    </tr>\n",
       "  </tbody>\n",
       "</table>\n",
       "</div>"
      ],
      "text/plain": [
       "             author_id                                context_annotations  \\\n",
       "0  1229060372105134080  [{'domain': {'description': 'Real world events...   \n",
       "1  1229060372105134080  [{'domain': {'description': 'Real world events...   \n",
       "2  1229060372105134080  [{'domain': {'description': 'Real world events...   \n",
       "3  1229060372105134080  [{'domain': {'description': 'Real world events...   \n",
       "4  1229060372105134080  [{'domain': {'description': 'Named people in t...   \n",
       "\n",
       "       conversation_id                created_at edit_history_tweet_ids  \\\n",
       "0  1324865785513332738  2020-11-07T00:09:58.000Z  [1324866646834606081]   \n",
       "1  1324865385448042496  2020-11-07T00:09:32.000Z  [1324866538059558913]   \n",
       "2  1324866302100508676  2020-11-07T00:08:55.000Z  [1324866382966775810]   \n",
       "3  1324865813325680641  2020-11-07T00:08:40.000Z  [1324866319896940544]   \n",
       "4  1324835859812798465  2020-11-07T00:08:27.000Z  [1324866264913899522]   \n",
       "\n",
       "                                            entities                   id  \\\n",
       "0  {'annotations': [{'end': 101, 'normalized_text...  1324866646834606081   \n",
       "1  {'annotations': [{'end': 100, 'normalized_text...  1324866538059558913   \n",
       "2  {'annotations': [{'end': 88, 'normalized_text'...  1324866382966775810   \n",
       "3  {'annotations': [{'end': 85, 'normalized_text'...  1324866319896940544   \n",
       "4  {'annotations': [{'end': 98, 'normalized_text'...  1324866264913899522   \n",
       "\n",
       "   in_reply_to_user_id lang  \\\n",
       "0  1236085967666192385   en   \n",
       "1  1270762579774902272   en   \n",
       "2           1661961012   en   \n",
       "3  1314213370434744326   en   \n",
       "4             20939466   en   \n",
       "\n",
       "                                      public_metrics  \\\n",
       "0  {'like_count': 0, 'quote_count': 0, 'reply_cou...   \n",
       "1  {'like_count': 1, 'quote_count': 0, 'reply_cou...   \n",
       "2  {'like_count': 0, 'quote_count': 0, 'reply_cou...   \n",
       "3  {'like_count': 0, 'quote_count': 0, 'reply_cou...   \n",
       "4  {'like_count': 0, 'quote_count': 0, 'reply_cou...   \n",
       "\n",
       "                                   referenced_tweets reply_settings  \\\n",
       "0  [{'id': '1324866614014210050', 'type': 'replie...       everyone   \n",
       "1  [{'id': '1324866484536012800', 'type': 'replie...       everyone   \n",
       "2  [{'id': '1324866302100508676', 'type': 'replie...       everyone   \n",
       "3  [{'id': '1324865813325680641', 'type': 'replie...       everyone   \n",
       "4  [{'id': '1324866011049435137', 'type': 'replie...       everyone   \n",
       "\n",
       "            source                                               text  geo  \n",
       "0  Twitter Web App  @JavoeGator @JonahLandergan The voting machine...  NaN  \n",
       "1  Twitter Web App  @hannahyusuck @saintherons The voting machines...  NaN  \n",
       "2  Twitter Web App  @FoxFyrePhotos The voting machines related to ...  NaN  \n",
       "3  Twitter Web App  @bertzbeess The voting machines related to the...  NaN  \n",
       "4  Twitter Web App  @rajesh06 @NateSilver538 The voting machines r...  NaN  "
      ]
     },
     "execution_count": 9,
     "metadata": {},
     "output_type": "execute_result"
    }
   ],
   "source": [
    "df.head()"
   ]
  },
  {
   "cell_type": "code",
   "execution_count": 11,
   "metadata": {},
   "outputs": [],
   "source": [
    "# Create list of author IDs\n",
    "author_id_array = df['author_id'].to_numpy()"
   ]
  },
  {
   "cell_type": "code",
   "execution_count": 38,
   "metadata": {},
   "outputs": [],
   "source": [
    "bearer_token = \"AAAAAAAAAAAAAAAAAAAAAGyajQEAAAAAZ3zJK19R33SFv7N9lPOOAP4gzsE%3DM61aIZYEZBsVQjdvkti9BmV0jZBfPyKj8ojsFCoqkopcbAFXjO\""
   ]
  },
  {
   "cell_type": "code",
   "execution_count": 34,
   "metadata": {},
   "outputs": [],
   "source": [
    "def create_url(next_token: str, iteration: int, ids):\n",
    "    #user_fields = \"user.fields=created_at,description,entities,id,location,name,public_metrics,username\"\n",
    "    start_time = 'start_time=2020-11-04T00:00:00.000Z'\n",
    "    end_time = 'end_time=2020-11-14T00:00:00.000Z'\n",
    "    url = \"https://api.twitter.com/2/users?ids={}\".format(ids)\n",
    "    return url"
   ]
  },
  {
   "cell_type": "code",
   "execution_count": 15,
   "metadata": {},
   "outputs": [],
   "source": [
    "def bearer_oauth(r):\n",
    "    \"\"\"\n",
    "    Method required by bearer token authentication.\n",
    "    \"\"\"\n",
    "\n",
    "    r.headers[\"Authorization\"] = f\"Bearer {bearer_token}\"\n",
    "    r.headers[\"User-Agent\"] = \"v2TweetLookupPython\"\n",
    "    return r\n"
   ]
  },
  {
   "cell_type": "code",
   "execution_count": 16,
   "metadata": {},
   "outputs": [],
   "source": [
    "def connect_to_endpoint(url):\n",
    "    response = requests.request(\"GET\", url, auth=bearer_oauth)\n",
    "    print(response.status_code)\n",
    "    if response.status_code != 200:\n",
    "        raise Exception(\n",
    "            \"Request returned an error: {} {}\".format(\n",
    "                response.status_code, response.text\n",
    "            )\n",
    "        )\n",
    "    return response.json()"
   ]
  },
  {
   "cell_type": "code",
   "execution_count": 41,
   "metadata": {},
   "outputs": [
    {
     "name": "stdout",
     "output_type": "stream",
     "text": [
      "Done\n"
     ]
    }
   ],
   "source": [
    "ids = [int(val) for val in author_id_array]\n",
    "\n",
    "# open file in write mode\n",
    "with open(r'authors.txt', 'w') as fp:\n",
    "    for item in ids:\n",
    "        fp.write(\"%s\\n\" % item)\n",
    "    print('Done')"
   ]
  },
  {
   "cell_type": "code",
   "execution_count": 40,
   "metadata": {},
   "outputs": [
    {
     "name": "stdout",
     "output_type": "stream",
     "text": [
      "https://api.twitter.com/2/users?ids=1229060372105134080,1229060372105134080,1229060372105134080,1229060372105134080,1229060372105134080,1229060372105134080,1229060372105134080,1229060372105134080,916308444025638913,916308444025638913\n",
      "200\n",
      "https://api.twitter.com/2/users?ids=5134080,\n",
      "400\n"
     ]
    },
    {
     "ename": "Exception",
     "evalue": "Request returned an error: 400 {\"errors\":[{\"parameters\":{\"ids\":[\"5134080,\"]},\"message\":\"The `ids` query parameter value [] is not valid\"}],\"title\":\"Invalid Request\",\"detail\":\"One or more parameters to your request was invalid.\",\"type\":\"https://api.twitter.com/2/problems/invalid-request\"}",
     "output_type": "error",
     "traceback": [
      "\u001b[0;31m---------------------------------------------------------------------------\u001b[0m",
      "\u001b[0;31mException\u001b[0m                                 Traceback (most recent call last)",
      "\u001b[0;32m/tmp/ipykernel_2081/3311650858.py\u001b[0m in \u001b[0;36m<module>\u001b[0;34m\u001b[0m\n\u001b[1;32m      6\u001b[0m     \u001b[0murl\u001b[0m \u001b[0;34m=\u001b[0m \u001b[0mcreate_url\u001b[0m\u001b[0;34m(\u001b[0m\u001b[0;32mNone\u001b[0m\u001b[0;34m,\u001b[0m \u001b[0mcount\u001b[0m\u001b[0;34m,\u001b[0m \u001b[0mids\u001b[0m\u001b[0;34m)\u001b[0m\u001b[0;34m\u001b[0m\u001b[0;34m\u001b[0m\u001b[0m\n\u001b[1;32m      7\u001b[0m     \u001b[0mprint\u001b[0m\u001b[0;34m(\u001b[0m\u001b[0murl\u001b[0m\u001b[0;34m)\u001b[0m\u001b[0;34m\u001b[0m\u001b[0;34m\u001b[0m\u001b[0m\n\u001b[0;32m----> 8\u001b[0;31m     \u001b[0mjson_response\u001b[0m \u001b[0;34m=\u001b[0m \u001b[0mconnect_to_endpoint\u001b[0m\u001b[0;34m(\u001b[0m\u001b[0murl\u001b[0m\u001b[0;34m)\u001b[0m\u001b[0;34m\u001b[0m\u001b[0;34m\u001b[0m\u001b[0m\n\u001b[0m\u001b[1;32m      9\u001b[0m     \u001b[0mjson_object\u001b[0m \u001b[0;34m=\u001b[0m \u001b[0mjs\u001b[0m\u001b[0;34m.\u001b[0m\u001b[0mdumps\u001b[0m\u001b[0;34m(\u001b[0m\u001b[0mjson_response\u001b[0m\u001b[0;34m,\u001b[0m \u001b[0mindent\u001b[0m\u001b[0;34m=\u001b[0m\u001b[0;36m4\u001b[0m\u001b[0;34m,\u001b[0m \u001b[0msort_keys\u001b[0m\u001b[0;34m=\u001b[0m\u001b[0;32mTrue\u001b[0m\u001b[0;34m)\u001b[0m\u001b[0;34m\u001b[0m\u001b[0;34m\u001b[0m\u001b[0m\n\u001b[1;32m     10\u001b[0m \u001b[0;34m\u001b[0m\u001b[0m\n",
      "\u001b[0;32m/tmp/ipykernel_2081/281994302.py\u001b[0m in \u001b[0;36mconnect_to_endpoint\u001b[0;34m(url)\u001b[0m\n\u001b[1;32m      5\u001b[0m         raise Exception(\n\u001b[1;32m      6\u001b[0m             \"Request returned an error: {} {}\".format(\n\u001b[0;32m----> 7\u001b[0;31m                 \u001b[0mresponse\u001b[0m\u001b[0;34m.\u001b[0m\u001b[0mstatus_code\u001b[0m\u001b[0;34m,\u001b[0m \u001b[0mresponse\u001b[0m\u001b[0;34m.\u001b[0m\u001b[0mtext\u001b[0m\u001b[0;34m\u001b[0m\u001b[0;34m\u001b[0m\u001b[0m\n\u001b[0m\u001b[1;32m      8\u001b[0m             )\n\u001b[1;32m      9\u001b[0m         )\n",
      "\u001b[0;31mException\u001b[0m: Request returned an error: 400 {\"errors\":[{\"parameters\":{\"ids\":[\"5134080,\"]},\"message\":\"The `ids` query parameter value [] is not valid\"}],\"title\":\"Invalid Request\",\"detail\":\"One or more parameters to your request was invalid.\",\"type\":\"https://api.twitter.com/2/problems/invalid-request\"}"
     ]
    }
   ],
   "source": [
    "ids = [int(val) for val in author_id_array]\n",
    "count = 0\n",
    "for i in range(1, 3500, 10):\n",
    "    ids = ids[i:i+10]\n",
    "    ids = str(ids).replace(\" \", \"\")[1:-1]\n",
    "    url = create_url(None, count, ids)\n",
    "    print(url)\n",
    "    json_response = connect_to_endpoint(url)\n",
    "    json_object = js.dumps(json_response, indent=4, sort_keys=True)\n",
    "\n",
    "    filename = f\"response{count}_user.json\"\n",
    "    with open(filename, \"w\") as outfile:\n",
    "        outfile.write(json_object)\n",
    "    count+=1\n"
   ]
  },
  {
   "cell_type": "markdown",
   "metadata": {},
   "source": [
    "## Numerical Analysis  "
   ]
  }
 ],
 "metadata": {
  "kernelspec": {
   "display_name": "Python 3 (ipykernel)",
   "language": "python",
   "name": "python3"
  },
  "language_info": {
   "codemirror_mode": {
    "name": "ipython",
    "version": 3
   },
   "file_extension": ".py",
   "mimetype": "text/x-python",
   "name": "python",
   "nbconvert_exporter": "python",
   "pygments_lexer": "ipython3",
   "version": "3.7.13"
  },
  "vscode": {
   "interpreter": {
    "hash": "a2d1937eaf42a33f6bad7128f9b80658bbb1685d32bc9da03c4702cc46b61d5d"
   }
  }
 },
 "nbformat": 4,
 "nbformat_minor": 2
}
