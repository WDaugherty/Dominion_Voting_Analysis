{
 "cells": [
  {
   "cell_type": "markdown",
   "metadata": {},
   "source": [
    "# Utilities "
   ]
  },
  {
   "cell_type": "code",
   "execution_count": 2,
   "metadata": {},
   "outputs": [],
   "source": [
    "import pandas as pd\n",
    "import numpy as np \n",
    "import networkx as nx\n",
    "import matplotlib.pyplot as plt\n",
    "import matplotlib.colors as mcolors\n",
    "%matplotlib inline \n",
    "import scipy\n",
    "import ndlib.models.ModelConfig as mc\n",
    "import ndlib.models.opinions as op\n",
    "from ndlib.viz.mpl.OpinionEvolution import OpinionEvolution"
   ]
  },
  {
   "cell_type": "markdown",
   "metadata": {},
   "source": [
    "# Analysis "
   ]
  },
  {
   "cell_type": "markdown",
   "metadata": {},
   "source": [
    "## Algorithmic Bias"
   ]
  },
  {
   "cell_type": "code",
   "execution_count": null,
   "metadata": {},
   "outputs": [],
   "source": [
    "# Mean field scenario\n",
    "\n",
    "\n",
    "# Algorithmic Bias model\n",
    "model = op.AlgorithmicBiasModel(g)\n",
    "\n",
    "# Model configuration\n",
    "config = mc.Configuration()\n",
    "config.add_model_parameter(\"epsilon\", 0.32)\n",
    "config.add_model_parameter(\"gamma\", 0)\n",
    "model.set_initial_status(config)\n",
    "\n",
    "# Simulation execution\n",
    "iterations = model.iteration_bunch(100)\n",
    "\n",
    "viz = OpinionEvolution(model, iterations)\n",
    "viz.plot(\"opinion_ev_1.pdf\")"
   ]
  }
 ],
 "metadata": {
  "kernelspec": {
   "display_name": "Python 3.9.15 ('ECE_Final')",
   "language": "python",
   "name": "python3"
  },
  "language_info": {
   "codemirror_mode": {
    "name": "ipython",
    "version": 3
   },
   "file_extension": ".py",
   "mimetype": "text/x-python",
   "name": "python",
   "nbconvert_exporter": "python",
   "pygments_lexer": "ipython3",
   "version": "3.9.15"
  },
  "orig_nbformat": 4,
  "vscode": {
   "interpreter": {
    "hash": "ebb61d0ef4b877c635aada87d1c83e966f370c4453e29612b5d917d376cb3dc1"
   }
  }
 },
 "nbformat": 4,
 "nbformat_minor": 2
}
