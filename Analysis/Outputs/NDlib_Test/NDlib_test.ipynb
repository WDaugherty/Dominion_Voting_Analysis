{
 "cells": [
  {
   "cell_type": "markdown",
   "metadata": {},
   "source": [
    "# Utilities "
   ]
  },
  {
   "cell_type": "code",
   "execution_count": 2,
   "metadata": {},
   "outputs": [
    {
     "name": "stdout",
     "output_type": "stream",
     "text": [
      "no display found. Using non-interactive Agg backend\n"
     ]
    }
   ],
   "source": [
    "import networkx as nx\n",
    "import ndlib.models.ModelConfig as mc\n",
    "import ndlib.models.opinions as op\n",
    "from ndlib.viz.mpl.OpinionEvolution import OpinionEvolution"
   ]
  },
  {
   "cell_type": "markdown",
   "metadata": {},
   "source": [
    "# Test Analysis "
   ]
  },
  {
   "cell_type": "markdown",
   "metadata": {},
   "source": [
    "\n",
    "## Algorithmic Bias\n"
   ]
  },
  {
   "cell_type": "code",
   "execution_count": 3,
   "metadata": {},
   "outputs": [
    {
     "name": "stderr",
     "output_type": "stream",
     "text": [
      "No artists with labels found to put in legend.  Note that artists whose label start with an underscore are ignored when legend() is called with no argument.\n"
     ]
    }
   ],
   "source": [
    "# mMean field scenario\n",
    "g = nx.complete_graph(100)\n",
    "\n",
    "# Algorithmic Bias model\n",
    "model = op.AlgorithmicBiasModel(g)\n",
    "\n",
    "# Model configuration\n",
    "config = mc.Configuration()\n",
    "config.add_model_parameter(\"epsilon\", 0.32)\n",
    "config.add_model_parameter(\"gamma\", 0)\n",
    "model.set_initial_status(config)\n",
    "\n",
    "# Simulation execution\n",
    "iterations = model.iteration_bunch(100)\n",
    "\n",
    "viz = OpinionEvolution(model, iterations)\n",
    "viz.plot(\"opinion_ev_1.pdf\")"
   ]
  },
  {
   "cell_type": "markdown",
   "metadata": {},
   "source": [
    "\n",
    "## Sznjad Model"
   ]
  },
  {
   "cell_type": "code",
   "execution_count": 4,
   "metadata": {},
   "outputs": [
    {
     "name": "stderr",
     "output_type": "stream",
     "text": [
      "No artists with labels found to put in legend.  Note that artists whose label start with an underscore are ignored when legend() is called with no argument.\n"
     ]
    }
   ],
   "source": [
    "# Network topology\n",
    "g = nx.erdos_renyi_graph(1000, 0.1)\n",
    "\n",
    "# Model selection\n",
    "model2 = op.SznajdModel(g)\n",
    "config = mc.Configuration()\n",
    "config.add_model_parameter('fraction_infected', 0.1)\n",
    "\n",
    "model2.set_initial_status(config)\n",
    "\n",
    "# Simulation execution\n",
    "iterations2 = model.iteration_bunch(200)\n",
    "\n",
    "viz2 = OpinionEvolution(model2, iterations2)\n",
    "viz2.plot(\"opinion_ev_2.pdf\")"
   ]
  },
  {
   "cell_type": "markdown",
   "metadata": {},
   "source": [
    "## Attraction Repulsion Hegselmann-Krause Model "
   ]
  },
  {
   "cell_type": "code",
   "execution_count": 5,
   "metadata": {},
   "outputs": [
    {
     "name": "stderr",
     "output_type": "stream",
     "text": [
      "No artists with labels found to put in legend.  Note that artists whose label start with an underscore are ignored when legend() is called with no argument.\n"
     ]
    }
   ],
   "source": [
    "# Network topology\n",
    "g = nx.erdos_renyi_graph(1000, 0.1)\n",
    "\n",
    "# Model selection\n",
    "model3 = op.ARWHKModel(g)\n",
    "\n",
    "# Model Configuration\n",
    "config = mc.Configuration()\n",
    "config.add_model_parameter(\"epsilon\", 0.32)\n",
    "config.add_model_parameter(\"perc_stubborness\", 0.2)\n",
    "config.add_model_parameter(\"option_for_stubbornness\", 0)\n",
    "config.add_model_parameter(\"method_variant\", 2)\n",
    "\n",
    "# Setting the edge parameters\n",
    "weight = 0.2\n",
    "if isinstance(g, nx.Graph):\n",
    "    edges = g.edges\n",
    "else:\n",
    "    edges = [(g.vs[e.tuple[0]]['name'], g.vs[e.tuple[1]]['name']) for e in g.es]\n",
    "\n",
    "for e in edges:\n",
    "    config.add_edge_configuration(\"weight\", e, weight)\n",
    "\n",
    "\n",
    "model3.set_initial_status(config)\n",
    "\n",
    "# Simulation execution\n",
    "iterations3 = model3.iteration_bunch(20)\n",
    "\n",
    "viz3 = OpinionEvolution(model3, iterations3)\n",
    "viz3.plot(\"opinion_ev_3.pdf\")"
   ]
  },
  {
   "cell_type": "markdown",
   "metadata": {},
   "source": [
    "## Q Voter "
   ]
  },
  {
   "cell_type": "code",
   "execution_count": 6,
   "metadata": {},
   "outputs": [
    {
     "name": "stderr",
     "output_type": "stream",
     "text": [
      "No artists with labels found to put in legend.  Note that artists whose label start with an underscore are ignored when legend() is called with no argument.\n"
     ]
    }
   ],
   "source": [
    "# Network topology\n",
    "g = nx.erdos_renyi_graph(1000, 0.1)\n",
    "\n",
    "# Model selection\n",
    "model4 = op.QVoterModel(g)\n",
    "config = mc.Configuration()\n",
    "config.add_model_parameter(\"q\", 5)\n",
    "config.add_model_parameter('fraction_infected', 0.1)\n",
    "\n",
    "model4.set_initial_status(config)\n",
    "\n",
    "# Simulation execution\n",
    "iterations4 = model4.iteration_bunch(200)\n",
    "\n",
    "viz4 = OpinionEvolution(model4, iterations4)\n",
    "viz4.plot(\"opinion_ev_4.pdf\")"
   ]
  }
 ],
 "metadata": {
  "kernelspec": {
   "display_name": "Python 3.9.15 ('ECE_Final')",
   "language": "python",
   "name": "python3"
  },
  "language_info": {
   "codemirror_mode": {
    "name": "ipython",
    "version": 3
   },
   "file_extension": ".py",
   "mimetype": "text/x-python",
   "name": "python",
   "nbconvert_exporter": "python",
   "pygments_lexer": "ipython3",
   "version": "3.9.15"
  },
  "orig_nbformat": 4,
  "vscode": {
   "interpreter": {
    "hash": "ebb61d0ef4b877c635aada87d1c83e966f370c4453e29612b5d917d376cb3dc1"
   }
  }
 },
 "nbformat": 4,
 "nbformat_minor": 2
}
