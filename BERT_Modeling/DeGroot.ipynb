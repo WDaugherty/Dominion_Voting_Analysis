{
 "cells": [
  {
   "cell_type": "code",
   "execution_count": null,
   "metadata": {},
   "outputs": [],
   "source": [
    "import numpy as np\n",
    "import pandas as pd\n",
    "import networkx as nx\n",
    "import matplotlib.pyplot as plt\n",
    "import matplotlib.colors as mcolors\n",
    "import sys"
   ]
  },
  {
   "cell_type": "code",
   "execution_count": null,
   "metadata": {},
   "outputs": [],
   "source": [
    "def load_graph_and_signals(path1, path2):\n",
    "    return np.load(path1), np.load(path2)\n",
    "\n",
    "\n",
    "A, signals = load_graph_and_signals('A_apr24_new_20.npy', 'probabilities_1.npy')\n",
    "\n",
    "I = np.identity(500)\n",
    "\n",
    "d_seq = [np.sum(row) for row in A]\n",
    "\n",
    "D = I*d_seq\n",
    "\n",
    "L = D - A\n",
    "\n",
    "eigs, evecs = np.linalg.eigh(L)\n",
    "\n",
    "plt.plot(eigs)\n",
    "plt.show()\n",
    "#print(eigs)\n",
    "H_l = np.matmul(np.linalg.inv(I+0.5*L), signals[1:501,:])\n",
    "#print(H_l)\n",
    "B = np.load('B_apr24_new_20.npy')"
   ]
  },
  {
   "cell_type": "code",
   "execution_count": null,
   "metadata": {},
   "outputs": [],
   "source": [
    "def degroot(T,b):\n",
    "    n=10000  # n can change\n",
    "    G = nx.from_numpy_matrix(T, parallel_edges=False)\n",
    "    T2 = T\n",
    "    for i in range(n):\n",
    "        b = T.dot(b)\n",
    "        T2 = T.dot(T2)\n",
    "    return T2,G,b\n"
   ]
  },
  {
   "cell_type": "code",
   "execution_count": null,
   "metadata": {},
   "outputs": [],
   "source": [
    "\n",
    "T,G,p=degroot(A[:100,:100],signals[:100,:100])"
   ]
  },
  {
   "cell_type": "code",
   "execution_count": null,
   "metadata": {},
   "outputs": [],
   "source": [
    "n = 100\n",
    "m = 100\n",
    "nodes = np.array(G.nodes ())\n",
    "\n",
    "T = 100000\n",
    "x = np.zeros((100,T+1))\n",
    "x[:100,:100] = signals[:100,:100]\n",
    "W = np.zeros((n,n,T))\n",
    "for t in range(1,T+1):\n",
    "    edge_chosen = np.random.choice(list(G.edges()))\n",
    "    W[:,:,t-1] = np.eye(n)\n",
    "    W[np.where(nodes== edge_chosen [0]) [0][0] ,np.where(nodes== edge_chosen [1])[0][0] ,t-1] = 1\n",
    "    W[np.where(nodes== edge_chosen [1]) [0][0] ,np.where(nodes== edge_chosen [0])[0][0] ,t-1] = 1\n",
    "    W[:,:,t-1] /= W[:,:,t-1]. sum(axis=1,keepdims=True)\n",
    "    x[:,[t]] = W[:,:,t-1] @ x[:,[t-1]]\n"
   ]
  },
  {
   "cell_type": "code",
   "execution_count": null,
   "metadata": {},
   "outputs": [],
   "source": [
    "plt.semilogx(np.arange(T+1),x.T)\n",
    "plt.axhline(x[: ,0]. mean (),linestyle='dashed',label='Average of $\\mathbf{x}(0)$')\n",
    "plt.xlabel('$t$')\n",
    "plt.ylabel('$x_i(t)$')\n",
    "plt.legend ()\n",
    "plt.savefig('gossip.png',bbox_inches='tight')\n",
    "plt.plot ()\n"
   ]
  }
 ],
 "metadata": {
  "kernelspec": {
   "display_name": "Python 3.9.15 ('ECE_Final')",
   "language": "python",
   "name": "python3"
  },
  "language_info": {
   "name": "python",
   "version": "3.9.15"
  },
  "orig_nbformat": 4,
  "vscode": {
   "interpreter": {
    "hash": "ebb61d0ef4b877c635aada87d1c83e966f370c4453e29612b5d917d376cb3dc1"
   }
  }
 },
 "nbformat": 4,
 "nbformat_minor": 2
}
