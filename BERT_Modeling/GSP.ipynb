{
 "cells": [
  {
   "cell_type": "code",
   "execution_count": null,
   "metadata": {},
   "outputs": [],
   "source": [
    "import numpy as np\n",
    "import pandas as pd\n",
    "import networkx as nx\n",
    "import matplotlib.pyplot as plt\n",
    "import matplotlib.colors as mcolors\n",
    "import sys\n",
    "import scipy\n",
    "from scipy.spatial.distance import pdist, squareform\n",
    "from scipy import optimize\n",
    "from networkx.algorithms.community import greedy_modularity_communities\n",
    "\n"
   ]
  },
  {
   "cell_type": "code",
   "execution_count": null,
   "metadata": {},
   "outputs": [],
   "source": [
    "def load_graph_and_signals(path1, path2):\n",
    "    return np.load(path1), np.load(path2)\n",
    "\n",
    "\n",
    "A, signals = load_graph_and_signals('A_apr24_new_20.npy', 'probabilities_1.npy')\n",
    "\n",
    "I = np.identity(500)\n",
    "\n",
    "d_seq = [np.sum(row) for row in A]\n",
    "\n",
    "D = I*d_seq\n",
    "\n",
    "L = D - A\n",
    "\n",
    "eigs, evecs = np.linalg.eigh(L)\n",
    "\n",
    "plt.plot(eigs)\n",
    "plt.show()\n",
    "#print(eigs)\n",
    "H_l = np.matmul(np.linalg.inv(I+0.5*L), signals[1:501,:])\n",
    "#print(H_l)\n",
    "B = np.load('B_apr24_new_20.npy')"
   ]
  },
  {
   "cell_type": "code",
   "execution_count": null,
   "metadata": {},
   "outputs": [],
   "source": [
    "def poisson(k, a, lamb):\n",
    "    return a * (lamb**k/scipy.special.factorial(k)) * np.exp(-lamb)\n",
    "\n",
    "def poisson_approx(k, a, lamb):\n",
    "    return a*np.exp(-(k-lamb)**2/(2*lamb))\n",
    "\n",
    "def gaus(x,a,x0,sigma):\n",
    "    return a*np.exp(-(x-x0)**2/(2*sigma**2))\n",
    "\n",
    "def power(x,a,gamma,k0):\n",
    "    return a* x**(gamma-1) * x**(-gamma)\n",
    "\n",
    "def graph_exploratory_analysis(graph,adjacency, graph_type=\"model_fitting\"):\n",
    "    # Basic stats\n",
    "    print('Number of nodes: {}, Number of edges: {}'. format(graph.number_of_nodes(), graph.number_of_edges()))\n",
    "    # Number of connected components\n",
    "    print('Number of connected components: {}'. format(nx.number_connected_components(graph)))\n",
    "    # Diameter\n",
    "    if nx.number_connected_components(graph) == 1:\n",
    "        print('Diameter of the graph: {}'.format(nx.diameter(graph)))\n",
    "    # Clustering coefficient\n",
    "    print('Clustering coefficient: {}'.format(nx.average_clustering(graph)))\n",
    "    # Degree distribution \n",
    "    degrees = [d for n,d in graph.degree()]\n",
    "    \n",
    "    plt.figure(figsize = [3.8,3.5])\n",
    "    entries, bin_edges, patches = plt.hist(degrees, bins = 21, color = 'xkcd:dark gray', label = 'Degrees dist.')\n",
    "    bin_middles = 0.5*(bin_edges[1:] + bin_edges[:-1])\n",
    "    mean = np.mean(degrees) #sum(bin_middles * entries) / len(bin_middles)\n",
    "    sigma = np.var(degrees) #  sum(entries*(bin_middles-mean)**2)/ len(bin_middles)\n",
    "    \n",
    "    popt_gauss,pcov_gauss = scipy.optimize.curve_fit(gaus, bin_middles, entries, p0=[1,0,1],maxfev = 5000)\n",
    "    popt_poiss2,pcov_poiss2 = scipy.optimize.curve_fit(poisson_approx, bin_middles, entries, p0=[1,0],maxfev =5000)\n",
    "  #  popt_power,pcov_power = scipy.optimize.curve_fit(power, bin_middles[np.argmax(entries):], entries[np.argmax(entries):], p0=[np.max(entries), mean,10])\n",
    "    \n",
    "    x_plot = np.linspace(np.min(bin_edges), np.max(bin_edges),100)\n",
    "    plt.plot(x_plot,gaus(x_plot,*popt_gauss),'-',c = 'xkcd:orange', label='Normal dist. fit')\n",
    "    plt.plot(x_plot,poisson_approx(x_plot,*popt_poiss2),'-',c = 'xkcd:green', label='Poisson dist. fit')\n",
    "    plt.legend()\n",
    "   # plt.title(\"Degree distribution\")\n",
    "    plt.xlabel(\"Degree\")\n",
    "    plt.ylabel(\"# of nodes\")\n",
    "    plt.xlim(np.min(bin_edges), np.max(bin_edges))\n",
    "    plt.ylim(top = 1.4 * np.max(entries))\n",
    "    plt.tight_layout()\n",
    "    plt.savefig(f'{RESULT_PATH}{graph_type}_graph_degree_distribution.png', dpi = 300)\n",
    "    plt.show()\n",
    "    \n",
    "    plt.loglog(bin_middles, entries,'o')\n",
    "    plt.loglog(x_plot,gaus(x_plot,*popt_gauss),'-',c='xkcd:orange',label='fit')\n",
    "    plt.title(\"Degree distribution Log-Log\")\n",
    "    plt.xlabel(\"Degree\")\n",
    "    plt.ylabel(\"# of nodes\")\n",
    "    plt.savefig(RESULT_PATH+'Russo_Ukrainian_Crisis_'+graph_type+'_graph_degree_distribution_loglog.png')\n",
    "    plt.show()\n",
    "    \n",
    "    print(f'mean degree', np.mean(degrees))\n",
    "    print(f'2nd moment of degrees:', np.sum(np.power(degrees,2)) / len(degrees))\n",
    "    \n",
    "    # Centrality\n",
    "    centrality = list(nx.degree_centrality(graph).values())\n",
    "    print('Mean degree centrality of nodes: {}'.format(np.mean(centrality)))\n",
    "    \n",
    "    # largest connected component\n",
    "    Gc = max((graph.subgraph(c) for c in nx.connected_components(graph)), key=len)\n",
    "    print(f'Diameter of largest connected component: {nx.diameter(Gc)}')\n",
    "    \n",
    "    print(f'Average clustering: {nx.average_clustering(graph)}')"
   ]
  },
  {
   "cell_type": "code",
   "execution_count": null,
   "metadata": {},
   "outputs": [],
   "source": [
    "#adjacency matrix sample\n",
    "sample = A[:100,:100]\n",
    "graph_sample = nx.from_numpy_matrix(sample, parallel_edges=False)"
   ]
  },
  {
   "cell_type": "code",
   "execution_count": null,
   "metadata": {},
   "outputs": [],
   "source": [
    "plt.spy(sample)\n",
    "plt.show()\n"
   ]
  },
  {
   "cell_type": "code",
   "execution_count": null,
   "metadata": {},
   "outputs": [],
   "source": [
    "graph_exploratory_analysis(graph_sample, sample,'Russo_Ukrainian_Crisis_sample')"
   ]
  },
  {
   "cell_type": "code",
   "execution_count": null,
   "metadata": {},
   "outputs": [],
   "source": [
    "graph = nx.from_numpy_matrix(A, parallel_edges=False)\n",
    "graph_exploratory_analysis(graph, A,'Russo_Ukrainian_Crisis')"
   ]
  }
 ],
 "metadata": {
  "kernelspec": {
   "display_name": "Python 3.9.15 ('ECE_Final')",
   "language": "python",
   "name": "python3"
  },
  "language_info": {
   "name": "python",
   "version": "3.9.15"
  },
  "orig_nbformat": 4,
  "vscode": {
   "interpreter": {
    "hash": "ebb61d0ef4b877c635aada87d1c83e966f370c4453e29612b5d917d376cb3dc1"
   }
  }
 },
 "nbformat": 4,
 "nbformat_minor": 2
}
