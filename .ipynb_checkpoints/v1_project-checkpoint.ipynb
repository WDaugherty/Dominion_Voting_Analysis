{
 "cells": [
  {
   "cell_type": "markdown",
   "metadata": {},
   "source": [
    "# Version 1 of the final project "
   ]
  },
  {
   "cell_type": "markdown",
   "metadata": {},
   "source": [
    "## Preprocessing "
   ]
  },
  {
   "cell_type": "code",
   "execution_count": 1,
   "metadata": {},
   "outputs": [],
   "source": [
    "#Imports necessary libraries \n",
    "import pandas as pd\n",
    "import numpy as np\n",
    "import networkx as nx\n",
    "import json as js\n",
    "import requests\n",
    "import os"
   ]
  },
  {
   "cell_type": "code",
   "execution_count": 3,
   "metadata": {},
   "outputs": [
    {
     "name": "stdout",
     "output_type": "stream",
     "text": [
      "3501\n",
      "3046\n"
     ]
    }
   ],
   "source": [
    "data = js.load(open('tweet_jsons/response1.json'))\n",
    "tweet_df = pd.DataFrame(data[\"data\"])\n",
    "\n",
    "for i in range(2, 63):\n",
    "    filepath = f'tweet_jsons/response{i}.json'\n",
    "    data = js.load(open(filepath))\n",
    "    new_df = pd.DataFrame(data[\"data\"])\n",
    "    tweet_df = pd.concat([new_df, tweet_df])\n",
    "\n",
    "print(len(tweet_df)) # =3500 Tweets currently\n",
    "print(len(tweet_df['author_id'].unique())) # =3046 users currently\n",
    "\n",
    "# to-do: \n",
    "# pull corresponding author information from separate api endpoint for all unique author ids"
   ]
  },
  {
   "cell_type": "code",
   "execution_count": 4,
   "metadata": {
    "scrolled": true
   },
   "outputs": [
    {
     "data": {
      "text/html": [
       "<div>\n",
       "<style scoped>\n",
       "    .dataframe tbody tr th:only-of-type {\n",
       "        vertical-align: middle;\n",
       "    }\n",
       "\n",
       "    .dataframe tbody tr th {\n",
       "        vertical-align: top;\n",
       "    }\n",
       "\n",
       "    .dataframe thead th {\n",
       "        text-align: right;\n",
       "    }\n",
       "</style>\n",
       "<table border=\"1\" class=\"dataframe\">\n",
       "  <thead>\n",
       "    <tr style=\"text-align: right;\">\n",
       "      <th></th>\n",
       "      <th>author_id</th>\n",
       "      <th>context_annotations</th>\n",
       "      <th>conversation_id</th>\n",
       "      <th>created_at</th>\n",
       "      <th>edit_history_tweet_ids</th>\n",
       "      <th>entities</th>\n",
       "      <th>id</th>\n",
       "      <th>in_reply_to_user_id</th>\n",
       "      <th>lang</th>\n",
       "      <th>public_metrics</th>\n",
       "      <th>referenced_tweets</th>\n",
       "      <th>reply_settings</th>\n",
       "      <th>source</th>\n",
       "      <th>text</th>\n",
       "      <th>geo</th>\n",
       "    </tr>\n",
       "  </thead>\n",
       "  <tbody>\n",
       "    <tr>\n",
       "      <th>0</th>\n",
       "      <td>1229060372105134080</td>\n",
       "      <td>[{'domain': {'description': 'Real world events...</td>\n",
       "      <td>1324865785513332738</td>\n",
       "      <td>2020-11-07T00:09:58.000Z</td>\n",
       "      <td>[1324866646834606081]</td>\n",
       "      <td>{'annotations': [{'end': 101, 'normalized_text...</td>\n",
       "      <td>1324866646834606081</td>\n",
       "      <td>1236085967666192385</td>\n",
       "      <td>en</td>\n",
       "      <td>{'like_count': 0, 'quote_count': 0, 'reply_cou...</td>\n",
       "      <td>[{'id': '1324866614014210050', 'type': 'replie...</td>\n",
       "      <td>everyone</td>\n",
       "      <td>Twitter Web App</td>\n",
       "      <td>@JavoeGator @JonahLandergan The voting machine...</td>\n",
       "      <td>NaN</td>\n",
       "    </tr>\n",
       "    <tr>\n",
       "      <th>1</th>\n",
       "      <td>1229060372105134080</td>\n",
       "      <td>[{'domain': {'description': 'Real world events...</td>\n",
       "      <td>1324865385448042496</td>\n",
       "      <td>2020-11-07T00:09:32.000Z</td>\n",
       "      <td>[1324866538059558913]</td>\n",
       "      <td>{'annotations': [{'end': 100, 'normalized_text...</td>\n",
       "      <td>1324866538059558913</td>\n",
       "      <td>1270762579774902272</td>\n",
       "      <td>en</td>\n",
       "      <td>{'like_count': 1, 'quote_count': 0, 'reply_cou...</td>\n",
       "      <td>[{'id': '1324866484536012800', 'type': 'replie...</td>\n",
       "      <td>everyone</td>\n",
       "      <td>Twitter Web App</td>\n",
       "      <td>@hannahyusuck @saintherons The voting machines...</td>\n",
       "      <td>NaN</td>\n",
       "    </tr>\n",
       "    <tr>\n",
       "      <th>2</th>\n",
       "      <td>1229060372105134080</td>\n",
       "      <td>[{'domain': {'description': 'Real world events...</td>\n",
       "      <td>1324866302100508676</td>\n",
       "      <td>2020-11-07T00:08:55.000Z</td>\n",
       "      <td>[1324866382966775810]</td>\n",
       "      <td>{'annotations': [{'end': 88, 'normalized_text'...</td>\n",
       "      <td>1324866382966775810</td>\n",
       "      <td>1661961012</td>\n",
       "      <td>en</td>\n",
       "      <td>{'like_count': 0, 'quote_count': 0, 'reply_cou...</td>\n",
       "      <td>[{'id': '1324866302100508676', 'type': 'replie...</td>\n",
       "      <td>everyone</td>\n",
       "      <td>Twitter Web App</td>\n",
       "      <td>@FoxFyrePhotos The voting machines related to ...</td>\n",
       "      <td>NaN</td>\n",
       "    </tr>\n",
       "    <tr>\n",
       "      <th>3</th>\n",
       "      <td>1229060372105134080</td>\n",
       "      <td>[{'domain': {'description': 'Real world events...</td>\n",
       "      <td>1324865813325680641</td>\n",
       "      <td>2020-11-07T00:08:40.000Z</td>\n",
       "      <td>[1324866319896940544]</td>\n",
       "      <td>{'annotations': [{'end': 85, 'normalized_text'...</td>\n",
       "      <td>1324866319896940544</td>\n",
       "      <td>1314213370434744326</td>\n",
       "      <td>en</td>\n",
       "      <td>{'like_count': 0, 'quote_count': 0, 'reply_cou...</td>\n",
       "      <td>[{'id': '1324865813325680641', 'type': 'replie...</td>\n",
       "      <td>everyone</td>\n",
       "      <td>Twitter Web App</td>\n",
       "      <td>@bertzbeess The voting machines related to the...</td>\n",
       "      <td>NaN</td>\n",
       "    </tr>\n",
       "    <tr>\n",
       "      <th>4</th>\n",
       "      <td>1229060372105134080</td>\n",
       "      <td>[{'domain': {'description': 'Named people in t...</td>\n",
       "      <td>1324835859812798465</td>\n",
       "      <td>2020-11-07T00:08:27.000Z</td>\n",
       "      <td>[1324866264913899522]</td>\n",
       "      <td>{'annotations': [{'end': 98, 'normalized_text'...</td>\n",
       "      <td>1324866264913899522</td>\n",
       "      <td>20939466</td>\n",
       "      <td>en</td>\n",
       "      <td>{'like_count': 0, 'quote_count': 0, 'reply_cou...</td>\n",
       "      <td>[{'id': '1324866011049435137', 'type': 'replie...</td>\n",
       "      <td>everyone</td>\n",
       "      <td>Twitter Web App</td>\n",
       "      <td>@rajesh06 @NateSilver538 The voting machines r...</td>\n",
       "      <td>NaN</td>\n",
       "    </tr>\n",
       "  </tbody>\n",
       "</table>\n",
       "</div>"
      ],
      "text/plain": [
       "             author_id                                context_annotations  \\\n",
       "0  1229060372105134080  [{'domain': {'description': 'Real world events...   \n",
       "1  1229060372105134080  [{'domain': {'description': 'Real world events...   \n",
       "2  1229060372105134080  [{'domain': {'description': 'Real world events...   \n",
       "3  1229060372105134080  [{'domain': {'description': 'Real world events...   \n",
       "4  1229060372105134080  [{'domain': {'description': 'Named people in t...   \n",
       "\n",
       "       conversation_id                created_at edit_history_tweet_ids  \\\n",
       "0  1324865785513332738  2020-11-07T00:09:58.000Z  [1324866646834606081]   \n",
       "1  1324865385448042496  2020-11-07T00:09:32.000Z  [1324866538059558913]   \n",
       "2  1324866302100508676  2020-11-07T00:08:55.000Z  [1324866382966775810]   \n",
       "3  1324865813325680641  2020-11-07T00:08:40.000Z  [1324866319896940544]   \n",
       "4  1324835859812798465  2020-11-07T00:08:27.000Z  [1324866264913899522]   \n",
       "\n",
       "                                            entities                   id  \\\n",
       "0  {'annotations': [{'end': 101, 'normalized_text...  1324866646834606081   \n",
       "1  {'annotations': [{'end': 100, 'normalized_text...  1324866538059558913   \n",
       "2  {'annotations': [{'end': 88, 'normalized_text'...  1324866382966775810   \n",
       "3  {'annotations': [{'end': 85, 'normalized_text'...  1324866319896940544   \n",
       "4  {'annotations': [{'end': 98, 'normalized_text'...  1324866264913899522   \n",
       "\n",
       "   in_reply_to_user_id lang  \\\n",
       "0  1236085967666192385   en   \n",
       "1  1270762579774902272   en   \n",
       "2           1661961012   en   \n",
       "3  1314213370434744326   en   \n",
       "4             20939466   en   \n",
       "\n",
       "                                      public_metrics  \\\n",
       "0  {'like_count': 0, 'quote_count': 0, 'reply_cou...   \n",
       "1  {'like_count': 1, 'quote_count': 0, 'reply_cou...   \n",
       "2  {'like_count': 0, 'quote_count': 0, 'reply_cou...   \n",
       "3  {'like_count': 0, 'quote_count': 0, 'reply_cou...   \n",
       "4  {'like_count': 0, 'quote_count': 0, 'reply_cou...   \n",
       "\n",
       "                                   referenced_tweets reply_settings  \\\n",
       "0  [{'id': '1324866614014210050', 'type': 'replie...       everyone   \n",
       "1  [{'id': '1324866484536012800', 'type': 'replie...       everyone   \n",
       "2  [{'id': '1324866302100508676', 'type': 'replie...       everyone   \n",
       "3  [{'id': '1324865813325680641', 'type': 'replie...       everyone   \n",
       "4  [{'id': '1324866011049435137', 'type': 'replie...       everyone   \n",
       "\n",
       "            source                                               text  geo  \n",
       "0  Twitter Web App  @JavoeGator @JonahLandergan The voting machine...  NaN  \n",
       "1  Twitter Web App  @hannahyusuck @saintherons The voting machines...  NaN  \n",
       "2  Twitter Web App  @FoxFyrePhotos The voting machines related to ...  NaN  \n",
       "3  Twitter Web App  @bertzbeess The voting machines related to the...  NaN  \n",
       "4  Twitter Web App  @rajesh06 @NateSilver538 The voting machines r...  NaN  "
      ]
     },
     "execution_count": 4,
     "metadata": {},
     "output_type": "execute_result"
    }
   ],
   "source": [
    "tweet_df.head()"
   ]
  },
  {
   "cell_type": "code",
   "execution_count": 5,
   "metadata": {},
   "outputs": [],
   "source": [
    "data = js.load(open('user_jsons/response_user0.json'))\n",
    "user_df = pd.DataFrame(data[\"data\"])\n",
    "\n",
    "for i in range(1, 3501):\n",
    "    if i not in [650, 746, 766, 1415, 1527, 2858, 2878, 3312, 3433]:\n",
    "        filepath = f'user_jsons/response_user{i}.json'\n",
    "        data = js.load(open(filepath))\n",
    "        new_df = pd.DataFrame(data[\"data\"])\n",
    "        user_df = pd.concat([new_df, user_df])"
   ]
  },
  {
   "cell_type": "code",
   "execution_count": 6,
   "metadata": {},
   "outputs": [],
   "source": [
    "df2 = pd.json_normalize(user_df['public_metrics'])"
   ]
  },
  {
   "cell_type": "code",
   "execution_count": 7,
   "metadata": {},
   "outputs": [
    {
     "data": {
      "text/html": [
       "<div>\n",
       "<style scoped>\n",
       "    .dataframe tbody tr th:only-of-type {\n",
       "        vertical-align: middle;\n",
       "    }\n",
       "\n",
       "    .dataframe tbody tr th {\n",
       "        vertical-align: top;\n",
       "    }\n",
       "\n",
       "    .dataframe thead th {\n",
       "        text-align: right;\n",
       "    }\n",
       "</style>\n",
       "<table border=\"1\" class=\"dataframe\">\n",
       "  <thead>\n",
       "    <tr style=\"text-align: right;\">\n",
       "      <th></th>\n",
       "      <th>followers_count</th>\n",
       "      <th>following_count</th>\n",
       "      <th>listed_count</th>\n",
       "      <th>tweet_count</th>\n",
       "    </tr>\n",
       "  </thead>\n",
       "  <tbody>\n",
       "    <tr>\n",
       "      <th>0</th>\n",
       "      <td>12</td>\n",
       "      <td>230</td>\n",
       "      <td>0</td>\n",
       "      <td>2848</td>\n",
       "    </tr>\n",
       "    <tr>\n",
       "      <th>1</th>\n",
       "      <td>1179</td>\n",
       "      <td>899</td>\n",
       "      <td>15</td>\n",
       "      <td>219404</td>\n",
       "    </tr>\n",
       "    <tr>\n",
       "      <th>2</th>\n",
       "      <td>465</td>\n",
       "      <td>901</td>\n",
       "      <td>0</td>\n",
       "      <td>18778</td>\n",
       "    </tr>\n",
       "    <tr>\n",
       "      <th>3</th>\n",
       "      <td>78</td>\n",
       "      <td>1029</td>\n",
       "      <td>0</td>\n",
       "      <td>3189</td>\n",
       "    </tr>\n",
       "    <tr>\n",
       "      <th>4</th>\n",
       "      <td>2592</td>\n",
       "      <td>4951</td>\n",
       "      <td>15</td>\n",
       "      <td>54783</td>\n",
       "    </tr>\n",
       "    <tr>\n",
       "      <th>...</th>\n",
       "      <td>...</td>\n",
       "      <td>...</td>\n",
       "      <td>...</td>\n",
       "      <td>...</td>\n",
       "    </tr>\n",
       "    <tr>\n",
       "      <th>3487</th>\n",
       "      <td>90</td>\n",
       "      <td>477</td>\n",
       "      <td>1</td>\n",
       "      <td>6549</td>\n",
       "    </tr>\n",
       "    <tr>\n",
       "      <th>3488</th>\n",
       "      <td>90</td>\n",
       "      <td>477</td>\n",
       "      <td>1</td>\n",
       "      <td>6549</td>\n",
       "    </tr>\n",
       "    <tr>\n",
       "      <th>3489</th>\n",
       "      <td>90</td>\n",
       "      <td>477</td>\n",
       "      <td>1</td>\n",
       "      <td>6549</td>\n",
       "    </tr>\n",
       "    <tr>\n",
       "      <th>3490</th>\n",
       "      <td>90</td>\n",
       "      <td>477</td>\n",
       "      <td>1</td>\n",
       "      <td>6549</td>\n",
       "    </tr>\n",
       "    <tr>\n",
       "      <th>3491</th>\n",
       "      <td>90</td>\n",
       "      <td>477</td>\n",
       "      <td>1</td>\n",
       "      <td>6549</td>\n",
       "    </tr>\n",
       "  </tbody>\n",
       "</table>\n",
       "<p>3492 rows × 4 columns</p>\n",
       "</div>"
      ],
      "text/plain": [
       "      followers_count  following_count  listed_count  tweet_count\n",
       "0                  12              230             0         2848\n",
       "1                1179              899            15       219404\n",
       "2                 465              901             0        18778\n",
       "3                  78             1029             0         3189\n",
       "4                2592             4951            15        54783\n",
       "...               ...              ...           ...          ...\n",
       "3487               90              477             1         6549\n",
       "3488               90              477             1         6549\n",
       "3489               90              477             1         6549\n",
       "3490               90              477             1         6549\n",
       "3491               90              477             1         6549\n",
       "\n",
       "[3492 rows x 4 columns]"
      ]
     },
     "execution_count": 7,
     "metadata": {},
     "output_type": "execute_result"
    }
   ],
   "source": [
    "df2"
   ]
  },
  {
   "cell_type": "code",
   "execution_count": 8,
   "metadata": {},
   "outputs": [],
   "source": [
    "user_df = user_df.reset_index()"
   ]
  },
  {
   "cell_type": "code",
   "execution_count": 9,
   "metadata": {},
   "outputs": [],
   "source": [
    "user_df = user_df.join(df2)"
   ]
  },
  {
   "cell_type": "code",
   "execution_count": 10,
   "metadata": {
    "scrolled": true
   },
   "outputs": [],
   "source": [
    "user_df = user_df.drop(columns={'public_metrics'})"
   ]
  },
  {
   "cell_type": "code",
   "execution_count": 18,
   "metadata": {},
   "outputs": [
    {
     "data": {
      "text/html": [
       "<div>\n",
       "<style scoped>\n",
       "    .dataframe tbody tr th:only-of-type {\n",
       "        vertical-align: middle;\n",
       "    }\n",
       "\n",
       "    .dataframe tbody tr th {\n",
       "        vertical-align: top;\n",
       "    }\n",
       "\n",
       "    .dataframe thead th {\n",
       "        text-align: right;\n",
       "    }\n",
       "</style>\n",
       "<table border=\"1\" class=\"dataframe\">\n",
       "  <thead>\n",
       "    <tr style=\"text-align: right;\">\n",
       "      <th></th>\n",
       "      <th>index</th>\n",
       "      <th>created_at</th>\n",
       "      <th>description</th>\n",
       "      <th>id</th>\n",
       "      <th>name</th>\n",
       "      <th>username</th>\n",
       "      <th>location</th>\n",
       "      <th>entities</th>\n",
       "      <th>followers_count</th>\n",
       "      <th>following_count</th>\n",
       "      <th>listed_count</th>\n",
       "      <th>tweet_count</th>\n",
       "    </tr>\n",
       "  </thead>\n",
       "  <tbody>\n",
       "    <tr>\n",
       "      <th>0</th>\n",
       "      <td>0</td>\n",
       "      <td>2019-09-15T14:19:50.000Z</td>\n",
       "      <td>Conservative Republican who respects GOD and t...</td>\n",
       "      <td>1173239803128582144</td>\n",
       "      <td>Rebecca Vargo</td>\n",
       "      <td>vargo_rebecca</td>\n",
       "      <td>NaN</td>\n",
       "      <td>NaN</td>\n",
       "      <td>12</td>\n",
       "      <td>230</td>\n",
       "      <td>0</td>\n",
       "      <td>2848</td>\n",
       "    </tr>\n",
       "    <tr>\n",
       "      <th>1</th>\n",
       "      <td>0</td>\n",
       "      <td>2012-12-26T20:19:10.000Z</td>\n",
       "      <td></td>\n",
       "      <td>1037981756</td>\n",
       "      <td>Carey Lauren</td>\n",
       "      <td>CareyLauren334</td>\n",
       "      <td>United States</td>\n",
       "      <td>NaN</td>\n",
       "      <td>1179</td>\n",
       "      <td>899</td>\n",
       "      <td>15</td>\n",
       "      <td>219404</td>\n",
       "    </tr>\n",
       "    <tr>\n",
       "      <th>2</th>\n",
       "      <td>0</td>\n",
       "      <td>2019-07-31T15:39:01.000Z</td>\n",
       "      <td>sta fungia di minghia...🇺🇸MAGA🇺🇸</td>\n",
       "      <td>1156590095622922241</td>\n",
       "      <td>Keep Your Hands Off Our Constitution</td>\n",
       "      <td>KeepYourHandsO2</td>\n",
       "      <td>NaN</td>\n",
       "      <td>NaN</td>\n",
       "      <td>465</td>\n",
       "      <td>901</td>\n",
       "      <td>0</td>\n",
       "      <td>18778</td>\n",
       "    </tr>\n",
       "    <tr>\n",
       "      <th>3</th>\n",
       "      <td>0</td>\n",
       "      <td>2009-10-23T13:39:35.000Z</td>\n",
       "      <td></td>\n",
       "      <td>84592949</td>\n",
       "      <td>HOMESWEETHOME</td>\n",
       "      <td>FlaDebbie</td>\n",
       "      <td>Madeira Beach, FL</td>\n",
       "      <td>NaN</td>\n",
       "      <td>78</td>\n",
       "      <td>1029</td>\n",
       "      <td>0</td>\n",
       "      <td>3189</td>\n",
       "    </tr>\n",
       "    <tr>\n",
       "      <th>4</th>\n",
       "      <td>0</td>\n",
       "      <td>2008-08-09T23:57:26.000Z</td>\n",
       "      <td>There’s nobody that’s coming to save us. You a...</td>\n",
       "      <td>15793556</td>\n",
       "      <td>Daniel Harris - Ballot Harvester 2024</td>\n",
       "      <td>DanielLHarrisUS</td>\n",
       "      <td>NaN</td>\n",
       "      <td>NaN</td>\n",
       "      <td>2592</td>\n",
       "      <td>4951</td>\n",
       "      <td>15</td>\n",
       "      <td>54783</td>\n",
       "    </tr>\n",
       "    <tr>\n",
       "      <th>...</th>\n",
       "      <td>...</td>\n",
       "      <td>...</td>\n",
       "      <td>...</td>\n",
       "      <td>...</td>\n",
       "      <td>...</td>\n",
       "      <td>...</td>\n",
       "      <td>...</td>\n",
       "      <td>...</td>\n",
       "      <td>...</td>\n",
       "      <td>...</td>\n",
       "      <td>...</td>\n",
       "      <td>...</td>\n",
       "    </tr>\n",
       "    <tr>\n",
       "      <th>3487</th>\n",
       "      <td>0</td>\n",
       "      <td>2020-02-16T15:10:10.000Z</td>\n",
       "      <td></td>\n",
       "      <td>1229060372105134080</td>\n",
       "      <td>Mr. Gekko</td>\n",
       "      <td>sicilianslice12</td>\n",
       "      <td>NaN</td>\n",
       "      <td>NaN</td>\n",
       "      <td>90</td>\n",
       "      <td>477</td>\n",
       "      <td>1</td>\n",
       "      <td>6549</td>\n",
       "    </tr>\n",
       "    <tr>\n",
       "      <th>3488</th>\n",
       "      <td>0</td>\n",
       "      <td>2020-02-16T15:10:10.000Z</td>\n",
       "      <td></td>\n",
       "      <td>1229060372105134080</td>\n",
       "      <td>Mr. Gekko</td>\n",
       "      <td>sicilianslice12</td>\n",
       "      <td>NaN</td>\n",
       "      <td>NaN</td>\n",
       "      <td>90</td>\n",
       "      <td>477</td>\n",
       "      <td>1</td>\n",
       "      <td>6549</td>\n",
       "    </tr>\n",
       "    <tr>\n",
       "      <th>3489</th>\n",
       "      <td>0</td>\n",
       "      <td>2020-02-16T15:10:10.000Z</td>\n",
       "      <td></td>\n",
       "      <td>1229060372105134080</td>\n",
       "      <td>Mr. Gekko</td>\n",
       "      <td>sicilianslice12</td>\n",
       "      <td>NaN</td>\n",
       "      <td>NaN</td>\n",
       "      <td>90</td>\n",
       "      <td>477</td>\n",
       "      <td>1</td>\n",
       "      <td>6549</td>\n",
       "    </tr>\n",
       "    <tr>\n",
       "      <th>3490</th>\n",
       "      <td>0</td>\n",
       "      <td>2020-02-16T15:10:10.000Z</td>\n",
       "      <td></td>\n",
       "      <td>1229060372105134080</td>\n",
       "      <td>Mr. Gekko</td>\n",
       "      <td>sicilianslice12</td>\n",
       "      <td>NaN</td>\n",
       "      <td>NaN</td>\n",
       "      <td>90</td>\n",
       "      <td>477</td>\n",
       "      <td>1</td>\n",
       "      <td>6549</td>\n",
       "    </tr>\n",
       "    <tr>\n",
       "      <th>3491</th>\n",
       "      <td>0</td>\n",
       "      <td>2020-02-16T15:10:10.000Z</td>\n",
       "      <td></td>\n",
       "      <td>1229060372105134080</td>\n",
       "      <td>Mr. Gekko</td>\n",
       "      <td>sicilianslice12</td>\n",
       "      <td>NaN</td>\n",
       "      <td>NaN</td>\n",
       "      <td>90</td>\n",
       "      <td>477</td>\n",
       "      <td>1</td>\n",
       "      <td>6549</td>\n",
       "    </tr>\n",
       "  </tbody>\n",
       "</table>\n",
       "<p>3492 rows × 12 columns</p>\n",
       "</div>"
      ],
      "text/plain": [
       "      index                created_at  \\\n",
       "0         0  2019-09-15T14:19:50.000Z   \n",
       "1         0  2012-12-26T20:19:10.000Z   \n",
       "2         0  2019-07-31T15:39:01.000Z   \n",
       "3         0  2009-10-23T13:39:35.000Z   \n",
       "4         0  2008-08-09T23:57:26.000Z   \n",
       "...     ...                       ...   \n",
       "3487      0  2020-02-16T15:10:10.000Z   \n",
       "3488      0  2020-02-16T15:10:10.000Z   \n",
       "3489      0  2020-02-16T15:10:10.000Z   \n",
       "3490      0  2020-02-16T15:10:10.000Z   \n",
       "3491      0  2020-02-16T15:10:10.000Z   \n",
       "\n",
       "                                            description                   id  \\\n",
       "0     Conservative Republican who respects GOD and t...  1173239803128582144   \n",
       "1                                                                 1037981756   \n",
       "2                      sta fungia di minghia...🇺🇸MAGA🇺🇸  1156590095622922241   \n",
       "3                                                                   84592949   \n",
       "4     There’s nobody that’s coming to save us. You a...             15793556   \n",
       "...                                                 ...                  ...   \n",
       "3487                                                     1229060372105134080   \n",
       "3488                                                     1229060372105134080   \n",
       "3489                                                     1229060372105134080   \n",
       "3490                                                     1229060372105134080   \n",
       "3491                                                     1229060372105134080   \n",
       "\n",
       "                                       name         username  \\\n",
       "0                             Rebecca Vargo    vargo_rebecca   \n",
       "1                              Carey Lauren   CareyLauren334   \n",
       "2      Keep Your Hands Off Our Constitution  KeepYourHandsO2   \n",
       "3                             HOMESWEETHOME        FlaDebbie   \n",
       "4     Daniel Harris - Ballot Harvester 2024  DanielLHarrisUS   \n",
       "...                                     ...              ...   \n",
       "3487                              Mr. Gekko  sicilianslice12   \n",
       "3488                              Mr. Gekko  sicilianslice12   \n",
       "3489                              Mr. Gekko  sicilianslice12   \n",
       "3490                              Mr. Gekko  sicilianslice12   \n",
       "3491                              Mr. Gekko  sicilianslice12   \n",
       "\n",
       "               location entities  followers_count  following_count  \\\n",
       "0                   NaN      NaN               12              230   \n",
       "1         United States      NaN             1179              899   \n",
       "2                   NaN      NaN              465              901   \n",
       "3     Madeira Beach, FL      NaN               78             1029   \n",
       "4                   NaN      NaN             2592             4951   \n",
       "...                 ...      ...              ...              ...   \n",
       "3487                NaN      NaN               90              477   \n",
       "3488                NaN      NaN               90              477   \n",
       "3489                NaN      NaN               90              477   \n",
       "3490                NaN      NaN               90              477   \n",
       "3491                NaN      NaN               90              477   \n",
       "\n",
       "      listed_count  tweet_count  \n",
       "0                0         2848  \n",
       "1               15       219404  \n",
       "2                0        18778  \n",
       "3                0         3189  \n",
       "4               15        54783  \n",
       "...            ...          ...  \n",
       "3487             1         6549  \n",
       "3488             1         6549  \n",
       "3489             1         6549  \n",
       "3490             1         6549  \n",
       "3491             1         6549  \n",
       "\n",
       "[3492 rows x 12 columns]"
      ]
     },
     "execution_count": 18,
     "metadata": {},
     "output_type": "execute_result"
    }
   ],
   "source": [
    "user_df"
   ]
  },
  {
   "cell_type": "code",
   "execution_count": 19,
   "metadata": {},
   "outputs": [],
   "source": [
    "#user_df['entities']\n",
    "test= pd.json_normalize(user_df['entities'])"
   ]
  },
  {
   "cell_type": "code",
   "execution_count": 20,
   "metadata": {},
   "outputs": [
    {
     "data": {
      "text/html": [
       "<div>\n",
       "<style scoped>\n",
       "    .dataframe tbody tr th:only-of-type {\n",
       "        vertical-align: middle;\n",
       "    }\n",
       "\n",
       "    .dataframe tbody tr th {\n",
       "        vertical-align: top;\n",
       "    }\n",
       "\n",
       "    .dataframe thead th {\n",
       "        text-align: right;\n",
       "    }\n",
       "</style>\n",
       "<table border=\"1\" class=\"dataframe\">\n",
       "  <thead>\n",
       "    <tr style=\"text-align: right;\">\n",
       "      <th></th>\n",
       "      <th>description.mentions</th>\n",
       "      <th>description.hashtags</th>\n",
       "      <th>url.urls</th>\n",
       "      <th>description.urls</th>\n",
       "      <th>description.cashtags</th>\n",
       "    </tr>\n",
       "  </thead>\n",
       "  <tbody>\n",
       "    <tr>\n",
       "      <th>0</th>\n",
       "      <td>NaN</td>\n",
       "      <td>NaN</td>\n",
       "      <td>NaN</td>\n",
       "      <td>NaN</td>\n",
       "      <td>NaN</td>\n",
       "    </tr>\n",
       "    <tr>\n",
       "      <th>1</th>\n",
       "      <td>NaN</td>\n",
       "      <td>NaN</td>\n",
       "      <td>NaN</td>\n",
       "      <td>NaN</td>\n",
       "      <td>NaN</td>\n",
       "    </tr>\n",
       "    <tr>\n",
       "      <th>2</th>\n",
       "      <td>NaN</td>\n",
       "      <td>NaN</td>\n",
       "      <td>NaN</td>\n",
       "      <td>NaN</td>\n",
       "      <td>NaN</td>\n",
       "    </tr>\n",
       "    <tr>\n",
       "      <th>3</th>\n",
       "      <td>NaN</td>\n",
       "      <td>NaN</td>\n",
       "      <td>NaN</td>\n",
       "      <td>NaN</td>\n",
       "      <td>NaN</td>\n",
       "    </tr>\n",
       "    <tr>\n",
       "      <th>4</th>\n",
       "      <td>NaN</td>\n",
       "      <td>NaN</td>\n",
       "      <td>NaN</td>\n",
       "      <td>NaN</td>\n",
       "      <td>NaN</td>\n",
       "    </tr>\n",
       "    <tr>\n",
       "      <th>...</th>\n",
       "      <td>...</td>\n",
       "      <td>...</td>\n",
       "      <td>...</td>\n",
       "      <td>...</td>\n",
       "      <td>...</td>\n",
       "    </tr>\n",
       "    <tr>\n",
       "      <th>3487</th>\n",
       "      <td>NaN</td>\n",
       "      <td>NaN</td>\n",
       "      <td>NaN</td>\n",
       "      <td>NaN</td>\n",
       "      <td>NaN</td>\n",
       "    </tr>\n",
       "    <tr>\n",
       "      <th>3488</th>\n",
       "      <td>NaN</td>\n",
       "      <td>NaN</td>\n",
       "      <td>NaN</td>\n",
       "      <td>NaN</td>\n",
       "      <td>NaN</td>\n",
       "    </tr>\n",
       "    <tr>\n",
       "      <th>3489</th>\n",
       "      <td>NaN</td>\n",
       "      <td>NaN</td>\n",
       "      <td>NaN</td>\n",
       "      <td>NaN</td>\n",
       "      <td>NaN</td>\n",
       "    </tr>\n",
       "    <tr>\n",
       "      <th>3490</th>\n",
       "      <td>NaN</td>\n",
       "      <td>NaN</td>\n",
       "      <td>NaN</td>\n",
       "      <td>NaN</td>\n",
       "      <td>NaN</td>\n",
       "    </tr>\n",
       "    <tr>\n",
       "      <th>3491</th>\n",
       "      <td>NaN</td>\n",
       "      <td>NaN</td>\n",
       "      <td>NaN</td>\n",
       "      <td>NaN</td>\n",
       "      <td>NaN</td>\n",
       "    </tr>\n",
       "  </tbody>\n",
       "</table>\n",
       "<p>3492 rows × 5 columns</p>\n",
       "</div>"
      ],
      "text/plain": [
       "     description.mentions description.hashtags url.urls description.urls  \\\n",
       "0                     NaN                  NaN      NaN              NaN   \n",
       "1                     NaN                  NaN      NaN              NaN   \n",
       "2                     NaN                  NaN      NaN              NaN   \n",
       "3                     NaN                  NaN      NaN              NaN   \n",
       "4                     NaN                  NaN      NaN              NaN   \n",
       "...                   ...                  ...      ...              ...   \n",
       "3487                  NaN                  NaN      NaN              NaN   \n",
       "3488                  NaN                  NaN      NaN              NaN   \n",
       "3489                  NaN                  NaN      NaN              NaN   \n",
       "3490                  NaN                  NaN      NaN              NaN   \n",
       "3491                  NaN                  NaN      NaN              NaN   \n",
       "\n",
       "     description.cashtags  \n",
       "0                     NaN  \n",
       "1                     NaN  \n",
       "2                     NaN  \n",
       "3                     NaN  \n",
       "4                     NaN  \n",
       "...                   ...  \n",
       "3487                  NaN  \n",
       "3488                  NaN  \n",
       "3489                  NaN  \n",
       "3490                  NaN  \n",
       "3491                  NaN  \n",
       "\n",
       "[3492 rows x 5 columns]"
      ]
     },
     "execution_count": 20,
     "metadata": {},
     "output_type": "execute_result"
    }
   ],
   "source": [
    "test"
   ]
  },
  {
   "cell_type": "code",
   "execution_count": null,
   "metadata": {},
   "outputs": [],
   "source": [
    "val = test['description.hashtags'][3]\n",
    "val"
   ]
  },
  {
   "cell_type": "code",
   "execution_count": null,
   "metadata": {},
   "outputs": [],
   "source": [
    "def create_tag_list(row):\n",
    "    tag_list = []\n",
    "    if type(row['description.hashtags'])!=float:\n",
    "        for tag_dict in row['description.hashtags']:\n",
    "            tag_list.append(tag_dict['tag'])\n",
    "        return tag_list\n",
    "    else:\n",
    "        return None"
   ]
  },
  {
   "cell_type": "code",
   "execution_count": null,
   "metadata": {},
   "outputs": [],
   "source": [
    "test['hashtags'] = test.apply(lambda row: create_tag_list(row), axis=1)"
   ]
  },
  {
   "cell_type": "code",
   "execution_count": null,
   "metadata": {},
   "outputs": [],
   "source": [
    "user_df = user_df.join(test['hashtags'])"
   ]
  },
  {
   "cell_type": "code",
   "execution_count": null,
   "metadata": {},
   "outputs": [],
   "source": [
    "user_df = user_df.drop(columns='entities')"
   ]
  },
  {
   "cell_type": "code",
   "execution_count": null,
   "metadata": {},
   "outputs": [],
   "source": [
    "user_df = user_df.drop(columns='hashtags')"
   ]
  },
  {
   "cell_type": "code",
   "execution_count": null,
   "metadata": {
    "scrolled": true
   },
   "outputs": [],
   "source": [
    "user_df.columns"
   ]
  },
  {
   "cell_type": "code",
   "execution_count": null,
   "metadata": {},
   "outputs": [],
   "source": [
    "tweet_df.columns"
   ]
  },
  {
   "cell_type": "code",
   "execution_count": null,
   "metadata": {},
   "outputs": [],
   "source": [
    "tweet_fields = [\"in_reply_to_user_id\", \"text\"]\n",
    "user_fields = [\"created_at\", \"id\", \"user_id\", \"followers_count\", \"name\"]\n",
    "dont_have = ['in_reply_to_screen_name', \"in_reply_to_status_id\", \"retweeted_id\",\n",
    "\"retweeted_screen_name\", \"user_mentions_screen_name\", \"user_mentions_id\"]\n",
    "# note screen_name is name"
   ]
  },
  {
   "cell_type": "code",
   "execution_count": null,
   "metadata": {},
   "outputs": [],
   "source": [
    "tweet_types = pd.json_normalize(tweet_df['referenced_tweets'])"
   ]
  },
  {
   "cell_type": "code",
   "execution_count": null,
   "metadata": {},
   "outputs": [],
   "source": [
    "tweet_df.loc[tweet_df['id']=='1324866646834606081']['referenced_tweets']"
   ]
  },
  {
   "cell_type": "code",
   "execution_count": null,
   "metadata": {},
   "outputs": [],
   "source": [
    "def create_referenced_list(row):\n",
    "    tag_overall_dict = {}\n",
    "    if type(row['referenced_tweets'])!=float:\n",
    "        for tag_dict in row['referenced_tweets']:\n",
    "            tag_overall_dict[tag_dict['type']] = tag_dict['id']\n",
    "        return tag_overall_dict\n",
    "    else:\n",
    "        return None"
   ]
  },
  {
   "cell_type": "code",
   "execution_count": null,
   "metadata": {},
   "outputs": [],
   "source": [
    "test_df = tweet_df.copy()"
   ]
  },
  {
   "cell_type": "code",
   "execution_count": null,
   "metadata": {},
   "outputs": [],
   "source": [
    "test_df['testdict'] = tweet_df.apply(lambda row: create_referenced_list(row), axis=1)"
   ]
  },
  {
   "cell_type": "code",
   "execution_count": null,
   "metadata": {},
   "outputs": [],
   "source": [
    "for dic in test_df['testdict']:\n",
    "    print(dic['replied_to'])\n",
    "    print('replied_to' in dic)\n",
    "    break"
   ]
  },
  {
   "cell_type": "code",
   "execution_count": null,
   "metadata": {},
   "outputs": [],
   "source": [
    "reply_testing =  pd.DataFrame(columns=['retweeted', 'replied_to', 'quoted'])\n",
    "def process_row(row):\n",
    "    if row['testdict'] is None:\n",
    "        to_append = [None, None, None] \n",
    "    elif 'replied_to' in row['testdict']:\n",
    "        to_append = [row['testdict']['replied_to'], None, None]\n",
    "    elif 'retweeted' in row['testdict']:\n",
    "        to_append = [None, row['testdict']['retweeted'], None]\n",
    "    elif 'quoted' in row['testdict']:\n",
    "        to_append = [None, None, row['testdict']['quoted']]\n",
    "    reply_testing.loc[len(reply_testing.index)] = to_append"
   ]
  },
  {
   "cell_type": "code",
   "execution_count": null,
   "metadata": {
    "scrolled": false
   },
   "outputs": [],
   "source": [
    "test_df.apply(lambda row: process_row(row), axis=1)"
   ]
  },
  {
   "cell_type": "code",
   "execution_count": null,
   "metadata": {},
   "outputs": [],
   "source": [
    "test_df = test_df.join(reply_testing)"
   ]
  },
  {
   "cell_type": "code",
   "execution_count": null,
   "metadata": {},
   "outputs": [],
   "source": [
    "tweet_df = test_df"
   ]
  },
  {
   "cell_type": "code",
   "execution_count": null,
   "metadata": {},
   "outputs": [],
   "source": [
    "tweet_df = tweet_df.drop(columns='testdict')"
   ]
  },
  {
   "cell_type": "code",
   "execution_count": null,
   "metadata": {},
   "outputs": [],
   "source": [
    "def pop_public_metrics(row):\n",
    "    "
   ]
  },
  {
   "cell_type": "code",
   "execution_count": null,
   "metadata": {},
   "outputs": [],
   "source": [
    "pub_metrics = pd.json_normalize(tweet_df['public_metrics'])"
   ]
  },
  {
   "cell_type": "code",
   "execution_count": null,
   "metadata": {},
   "outputs": [],
   "source": [
    "tweet_df = tweet_df.join(pub_metrics)"
   ]
  },
  {
   "cell_type": "code",
   "execution_count": null,
   "metadata": {},
   "outputs": [],
   "source": [
    "tweet_df = tweet_df.drop(columns=['public_metrics', 'referenced_tweets'])"
   ]
  },
  {
   "cell_type": "code",
   "execution_count": null,
   "metadata": {},
   "outputs": [],
   "source": [
    "entity_df = pd.json_normalize(tweet_df['entities'])"
   ]
  },
  {
   "cell_type": "code",
   "execution_count": null,
   "metadata": {
    "scrolled": true
   },
   "outputs": [],
   "source": [
    "entity_df"
   ]
  },
  {
   "cell_type": "code",
   "execution_count": null,
   "metadata": {},
   "outputs": [],
   "source": [
    "mentions_df = pd.DataFrame(columns=['user_mentioned'])\n",
    "def process_mentions(mentions):\n",
    "    if mentions is None or type(mentions)==float:\n",
    "        to_append = [None]\n",
    "    else:\n",
    "        for mentions_dict in mentions:\n",
    "            if mentions_dict is None:\n",
    "                to_append = [None]\n",
    "            else:\n",
    "                to_append = [mentions_dict['id']]\n",
    "    mentions_df.loc[len(mentions_df.index)] = to_append"
   ]
  },
  {
   "cell_type": "code",
   "execution_count": null,
   "metadata": {},
   "outputs": [],
   "source": [
    "annotations_df = pd.DataFrame(columns=['Place', 'Organization', 'Person', 'Other', 'Probability'])\n",
    "def process_annotations(annotations):\n",
    "    if annotations is None or type(annotations)==float:\n",
    "        to_append = [None, None, None, None, None]\n",
    "    else:\n",
    "        for an_dict in annotations:\n",
    "            if an_dict is None:\n",
    "                to_append = [None, None, None, None, None]\n",
    "            if an_dict['type'] == 'Place':\n",
    "                to_append = [an_dict['normalized_text'], None, None, None, an_dict['probability']]\n",
    "            elif an_dict['type'] == 'Organization':\n",
    "                to_append = [None, an_dict['normalized_text'], None, None, an_dict['probability']]\n",
    "            elif an_dict['type'] == 'Person':\n",
    "                to_append = [None, None, an_dict['normalized_text'], None, an_dict['probability']]\n",
    "            elif an_dict['type'] == 'Other':\n",
    "                to_append = [None, None, None, an_dict['normalized_text'], an_dict['probability']]\n",
    "            else:\n",
    "                to_append = [None, None, None, None, None]\n",
    "    annotations_df.loc[len(annotations_df.index)] = to_append"
   ]
  },
  {
   "cell_type": "code",
   "execution_count": null,
   "metadata": {
    "scrolled": true
   },
   "outputs": [],
   "source": [
    "entity_df.apply(lambda x: process_annotations(x['annotations']), axis=1)"
   ]
  },
  {
   "cell_type": "code",
   "execution_count": null,
   "metadata": {},
   "outputs": [],
   "source": [
    "entity_df.apply(lambda x: process_mentions(x['mentions']), axis=1)"
   ]
  },
  {
   "cell_type": "code",
   "execution_count": null,
   "metadata": {},
   "outputs": [],
   "source": [
    "tweet_df = tweet_df.join(annotations_df)"
   ]
  },
  {
   "cell_type": "code",
   "execution_count": null,
   "metadata": {},
   "outputs": [],
   "source": [
    "tweet_df = tweet_df.join(mentions_df)"
   ]
  },
  {
   "cell_type": "code",
   "execution_count": null,
   "metadata": {},
   "outputs": [],
   "source": [
    "tweet_df = tweet_df.drop(columns='entities')"
   ]
  },
  {
   "cell_type": "code",
   "execution_count": null,
   "metadata": {},
   "outputs": [],
   "source": [
    "tweet_df = tweet_df.drop(columns='context_annotations')"
   ]
  },
  {
   "cell_type": "code",
   "execution_count": null,
   "metadata": {
    "scrolled": true
   },
   "outputs": [],
   "source": [
    "tweet_df"
   ]
  },
  {
   "cell_type": "code",
   "execution_count": null,
   "metadata": {},
   "outputs": [],
   "source": []
  },
  {
   "cell_type": "markdown",
   "metadata": {},
   "source": [
    "## Numerical Analysis  "
   ]
  }
 ],
 "metadata": {
  "kernelspec": {
   "display_name": "Python 3 (ipykernel)",
   "language": "python",
   "name": "python3"
  },
  "language_info": {
   "codemirror_mode": {
    "name": "ipython",
    "version": 3
   },
   "file_extension": ".py",
   "mimetype": "text/x-python",
   "name": "python",
   "nbconvert_exporter": "python",
   "pygments_lexer": "ipython3",
   "version": "3.7.13"
  },
  "vscode": {
   "interpreter": {
    "hash": "a2d1937eaf42a33f6bad7128f9b80658bbb1685d32bc9da03c4702cc46b61d5d"
   }
  }
 },
 "nbformat": 4,
 "nbformat_minor": 2
}
